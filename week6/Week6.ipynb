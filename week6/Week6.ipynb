{
 "cells": [
  {
   "cell_type": "markdown",
   "metadata": {
    "id": "yZJbiVkPVVWG"
   },
   "source": [
    "# CSCA 5642 Final Project"
   ]
  },
  {
   "cell_type": "markdown",
   "metadata": {
    "id": "5Kj1TL97rTxi"
   },
   "source": [
    "## Problem Statement\n",
    "The goal of this project is to use deep learning to create a model that can predict missing words in a sentance. This will be a fill in the blank Natural Language Processing task. As the nature of this problem is sequence based and context dependent, reccurent neural networks will be explored for this task.\n"
   ]
  },
  {
   "cell_type": "markdown",
   "metadata": {
    "id": "P9huCSzQsQOX"
   },
   "source": [
    "### Data Description\n",
    "\n",
    "According to the Kaggle page this was sourced, this dataset includes approximately 40MB JSON files. They are each contain a collection of Wikipedia articles. Each article element in the JSON contains only 3 keys: an ID number, the title of the article, and the text of the article. Each article has been \"flattened\" to occupy a single plain text string to make it easier for human examination, as opposed to markup. An example entry is of the form:\n",
    "\n",
    "[\n",
    " {\n",
    "  \"id\": \"17279752\",\n",
    "  \"text\": \"Hawthorne Road was a cricket and football ground in Bootle in England...\",\n",
    "  \"title\": \"Hawthorne Road\"\n",
    " }\n",
    "]\n",
    "\n",
    "There is a significantly large amount of data. For the sake of model training time, I will be using a small subset of the data.\n",
    "\n",
    "Source: https://www.kaggle.com/datasets/ltcmdrdata/plain-text-wikipedia-202011/data"
   ]
  },
  {
   "cell_type": "markdown",
   "metadata": {
    "id": "mwuX9rZAVWiG"
   },
   "source": [
    "### Setup"
   ]
  },
  {
   "cell_type": "markdown",
   "metadata": {
    "id": "Ns9lKPyNVY23"
   },
   "source": [
    "#### Imports"
   ]
  },
  {
   "cell_type": "code",
   "execution_count": 1,
   "metadata": {
    "id": "sfAHCPOsWoW1"
   },
   "outputs": [],
   "source": [
    "import pandas as pd\n",
    "from collections import Counter\n",
    "from matplotlib import pyplot as plt\n",
    "import os\n",
    "import seaborn\n",
    "import numpy as np\n",
    "from sklearn.metrics import confusion_matrix, ConfusionMatrixDisplay, classification_report, f1_score\n",
    "from sklearn.model_selection import train_test_split\n",
    "import sys\n",
    "import nltk\n",
    "import json\n",
    "from nltk.corpus import stopwords\n",
    "import re\n",
    "from PIL import Image\n",
    "import random\n",
    "from wordcloud import WordCloud\n",
    "import tensorflow as tf\n",
    "import keras\n",
    "from tensorflow.keras.preprocessing.text import Tokenizer\n",
    "from tensorflow.keras.preprocessing.sequence import pad_sequences\n",
    "from keras import layers\n",
    "from keras.layers import Bidirectional, LSTM\n",
    "import glob\n",
    "from nltk.tokenize import sent_tokenize\n",
    "import time\n",
    "from sklearn.metrics import accuracy_score"
   ]
  },
  {
   "cell_type": "code",
   "execution_count": 363,
   "metadata": {
    "colab": {
     "base_uri": "https://localhost:8080/"
    },
    "id": "OXtPkhRsVUA_",
    "outputId": "7b151316-1a66-4ea0-9340-2a66f876c6c2"
   },
   "outputs": [],
   "source": [
    "nltk.download('stopwords')"
   ]
  },
  {
   "cell_type": "code",
   "execution_count": 365,
   "metadata": {
    "colab": {
     "base_uri": "https://localhost:8080/"
    },
    "id": "lvK4q1IWy0nX",
    "outputId": "50436535-c4c1-4bd8-8778-9bdc26df48d1"
   },
   "outputs": [],
   "source": [
    "nltk.download('punkt')"
   ]
  },
  {
   "cell_type": "code",
   "execution_count": 367,
   "metadata": {
    "colab": {
     "base_uri": "https://localhost:8080/"
    },
    "id": "BMmYJrOyzDOC",
    "outputId": "8b25f0b3-ae67-4c23-caf2-bf58c85783d3"
   },
   "outputs": [],
   "source": [
    "nltk.download('punkt_tab')"
   ]
  },
  {
   "cell_type": "markdown",
   "metadata": {
    "id": "pYlJ6yo5Vb8W"
   },
   "source": [
    "### Load Data\n",
    "There are a very large amount of files available. I will only be taking 1 file for this experiment for the sake of training time for comparing multiple models."
   ]
  },
  {
   "cell_type": "code",
   "execution_count": 370,
   "metadata": {
    "colab": {
     "base_uri": "https://localhost:8080/"
    },
    "id": "wnyjGqNhxbGf",
    "outputId": "bd1674ec-bd4a-44e5-fcfb-7d7d14770ed0"
   },
   "outputs": [],
   "source": [
    "jsons = glob.glob(\"data/*.json\")"
   ]
  },
  {
   "cell_type": "code",
   "execution_count": 8,
   "metadata": {
    "colab": {
     "base_uri": "https://localhost:8080/"
    },
    "id": "wYW2ahnM7VSw",
    "outputId": "43908c10-9474-4866-e0cb-d3d56dfb69b3"
   },
   "outputs": [
    {
     "name": "stdout",
     "output_type": "stream",
     "text": [
      "dict_keys(['id', 'text', 'title'])\n"
     ]
    }
   ],
   "source": [
    "with open(jsons[0], 'r') as file:\n",
    "  data = json.load(file)\n",
    "print(data[0].keys())\n",
    "json_data = pd.DataFrame(data)"
   ]
  },
  {
   "cell_type": "code",
   "execution_count": 9,
   "metadata": {
    "colab": {
     "base_uri": "https://localhost:8080/",
     "height": 875
    },
    "id": "HPehXPqh7bJ_",
    "outputId": "8961bd2d-d3e0-453c-b340-2f685e45ac40"
   },
   "outputs": [
    {
     "name": "stdout",
     "output_type": "stream",
     "text": [
      "Index(['id', 'text', 'title'], dtype='object') \n",
      "------------------------------------------------------------------------------------\n",
      "              id   text          title\n",
      "count      14012  14012          14012\n",
      "unique     14012  14011          14012\n",
      "top     53158230         Aulacaganides\n",
      "freq           1      2              1 \n",
      "------------------------------------------------------------------------------------\n",
      "<class 'pandas.core.frame.DataFrame'>\n",
      "RangeIndex: 14012 entries, 0 to 14011\n",
      "Data columns (total 3 columns):\n",
      " #   Column  Non-Null Count  Dtype \n",
      "---  ------  --------------  ----- \n",
      " 0   id      14012 non-null  object\n",
      " 1   text    14012 non-null  object\n",
      " 2   title   14012 non-null  object\n",
      "dtypes: object(3)\n",
      "memory usage: 328.5+ KB\n",
      "None \n",
      "------------------------------------------------------------------------------------\n"
     ]
    },
    {
     "data": {
      "text/html": [
       "<div>\n",
       "<style scoped>\n",
       "    .dataframe tbody tr th:only-of-type {\n",
       "        vertical-align: middle;\n",
       "    }\n",
       "\n",
       "    .dataframe tbody tr th {\n",
       "        vertical-align: top;\n",
       "    }\n",
       "\n",
       "    .dataframe thead th {\n",
       "        text-align: right;\n",
       "    }\n",
       "</style>\n",
       "<table border=\"1\" class=\"dataframe\">\n",
       "  <thead>\n",
       "    <tr style=\"text-align: right;\">\n",
       "      <th></th>\n",
       "      <th>id</th>\n",
       "      <th>text</th>\n",
       "      <th>title</th>\n",
       "    </tr>\n",
       "  </thead>\n",
       "  <tbody>\n",
       "    <tr>\n",
       "      <th>0</th>\n",
       "      <td>53158230</td>\n",
       "      <td>Aulacaganides is monospecific genus of a Middl...</td>\n",
       "      <td>Aulacaganides</td>\n",
       "    </tr>\n",
       "    <tr>\n",
       "      <th>1</th>\n",
       "      <td>53158236</td>\n",
       "      <td>Mikko Outinen (born April 7, 1971) is a Finnis...</td>\n",
       "      <td>Mikko Outinen</td>\n",
       "    </tr>\n",
       "    <tr>\n",
       "      <th>2</th>\n",
       "      <td>53158237</td>\n",
       "      <td>Edith Beatrice Belcher Thurston (Birthdate Unk...</td>\n",
       "      <td>Edith Thurston</td>\n",
       "    </tr>\n",
       "    <tr>\n",
       "      <th>3</th>\n",
       "      <td>53158281</td>\n",
       "      <td>The presidency of Dwight D. Eisenhower began o...</td>\n",
       "      <td>Timeline of the Dwight D. Eisenhower presidency</td>\n",
       "    </tr>\n",
       "    <tr>\n",
       "      <th>4</th>\n",
       "      <td>53158311</td>\n",
       "      <td>is a Japanese actor, voice actor and narrator....</td>\n",
       "      <td>Shinya Owada</td>\n",
       "    </tr>\n",
       "    <tr>\n",
       "      <th>...</th>\n",
       "      <td>...</td>\n",
       "      <td>...</td>\n",
       "      <td>...</td>\n",
       "    </tr>\n",
       "    <tr>\n",
       "      <th>14007</th>\n",
       "      <td>53351308</td>\n",
       "      <td>Lubnowy is part of the name of two villages, b...</td>\n",
       "      <td>Lubnowy</td>\n",
       "    </tr>\n",
       "    <tr>\n",
       "      <th>14008</th>\n",
       "      <td>53351318</td>\n",
       "      <td>Rhamphomyia albohirta is a species of fly in t...</td>\n",
       "      <td>Rhamphomyia albohirta</td>\n",
       "    </tr>\n",
       "    <tr>\n",
       "      <th>14009</th>\n",
       "      <td>53351334</td>\n",
       "      <td>Jawty () is part of the name of two villages, ...</td>\n",
       "      <td>Jawty</td>\n",
       "    </tr>\n",
       "    <tr>\n",
       "      <th>14010</th>\n",
       "      <td>53351338</td>\n",
       "      <td>Spliatsch Castle () is a ruined castle in the ...</td>\n",
       "      <td>Spliatsch Castle</td>\n",
       "    </tr>\n",
       "    <tr>\n",
       "      <th>14011</th>\n",
       "      <td>53351343</td>\n",
       "      <td>Outagamie County Health Center, established in...</td>\n",
       "      <td>Outagamie County Health Center</td>\n",
       "    </tr>\n",
       "  </tbody>\n",
       "</table>\n",
       "<p>14012 rows × 3 columns</p>\n",
       "</div>"
      ],
      "text/plain": [
       "             id                                               text  \\\n",
       "0      53158230  Aulacaganides is monospecific genus of a Middl...   \n",
       "1      53158236  Mikko Outinen (born April 7, 1971) is a Finnis...   \n",
       "2      53158237  Edith Beatrice Belcher Thurston (Birthdate Unk...   \n",
       "3      53158281  The presidency of Dwight D. Eisenhower began o...   \n",
       "4      53158311  is a Japanese actor, voice actor and narrator....   \n",
       "...         ...                                                ...   \n",
       "14007  53351308  Lubnowy is part of the name of two villages, b...   \n",
       "14008  53351318  Rhamphomyia albohirta is a species of fly in t...   \n",
       "14009  53351334  Jawty () is part of the name of two villages, ...   \n",
       "14010  53351338  Spliatsch Castle () is a ruined castle in the ...   \n",
       "14011  53351343  Outagamie County Health Center, established in...   \n",
       "\n",
       "                                                 title  \n",
       "0                                        Aulacaganides  \n",
       "1                                        Mikko Outinen  \n",
       "2                                       Edith Thurston  \n",
       "3      Timeline of the Dwight D. Eisenhower presidency  \n",
       "4                                         Shinya Owada  \n",
       "...                                                ...  \n",
       "14007                                          Lubnowy  \n",
       "14008                            Rhamphomyia albohirta  \n",
       "14009                                            Jawty  \n",
       "14010                                 Spliatsch Castle  \n",
       "14011                   Outagamie County Health Center  \n",
       "\n",
       "[14012 rows x 3 columns]"
      ]
     },
     "execution_count": 9,
     "metadata": {},
     "output_type": "execute_result"
    }
   ],
   "source": [
    "print(json_data.columns, '\\n------------------------------------------------------------------------------------')\n",
    "print(json_data.describe(), '\\n------------------------------------------------------------------------------------')\n",
    "print(json_data.info(), '\\n------------------------------------------------------------------------------------')\n",
    "json_data"
   ]
  },
  {
   "cell_type": "markdown",
   "metadata": {
    "id": "BvG2eH4qrl-x"
   },
   "source": [
    "## Exploratory Data Analysis\n",
    "The text data has already been cleaned of html. The text had also already been flattened to one string, so this step is already accomplished. Some options for further processing include stopword removal, casting the text to lower case, and removing special characters. Since the goal is to create a model that can fill in the blank, stopword removal will not be used. The text will however be cast to lowercase, and removed of special characters and numbers.\n",
    "\n",
    "Also, the id and title columns are not needed so they will be removed. The method I will approach this NLP deep learning problem is to create a target column containing the word to be predicted (filled in). This word in the original text will be switched with a mask token <MASK>. The input text will also be reformatted so that each row is a single sentance, thus expanding the input count."
   ]
  },
  {
   "cell_type": "markdown",
   "metadata": {
    "id": "-gfm_Llo6-jy"
   },
   "source": [
    "Perform the required cleaning operations."
   ]
  },
  {
   "cell_type": "code",
   "execution_count": 12,
   "metadata": {
    "colab": {
     "base_uri": "https://localhost:8080/",
     "height": 424
    },
    "id": "tgkox9gJ7bSQ",
    "outputId": "40d845db-23b6-4b82-8cd2-1de9f5515b8a"
   },
   "outputs": [
    {
     "data": {
      "text/html": [
       "<div>\n",
       "<style scoped>\n",
       "    .dataframe tbody tr th:only-of-type {\n",
       "        vertical-align: middle;\n",
       "    }\n",
       "\n",
       "    .dataframe tbody tr th {\n",
       "        vertical-align: top;\n",
       "    }\n",
       "\n",
       "    .dataframe thead th {\n",
       "        text-align: right;\n",
       "    }\n",
       "</style>\n",
       "<table border=\"1\" class=\"dataframe\">\n",
       "  <thead>\n",
       "    <tr style=\"text-align: right;\">\n",
       "      <th></th>\n",
       "      <th>text</th>\n",
       "    </tr>\n",
       "  </thead>\n",
       "  <tbody>\n",
       "    <tr>\n",
       "      <th>0</th>\n",
       "      <td>Aulacaganides is monospecific genus of a Middl...</td>\n",
       "    </tr>\n",
       "    <tr>\n",
       "      <th>1</th>\n",
       "      <td>Mikko Outinen (born April 7, 1971) is a Finnis...</td>\n",
       "    </tr>\n",
       "    <tr>\n",
       "      <th>2</th>\n",
       "      <td>Edith Beatrice Belcher Thurston (Birthdate Unk...</td>\n",
       "    </tr>\n",
       "    <tr>\n",
       "      <th>3</th>\n",
       "      <td>The presidency of Dwight D. Eisenhower began o...</td>\n",
       "    </tr>\n",
       "    <tr>\n",
       "      <th>4</th>\n",
       "      <td>is a Japanese actor, voice actor and narrator....</td>\n",
       "    </tr>\n",
       "    <tr>\n",
       "      <th>...</th>\n",
       "      <td>...</td>\n",
       "    </tr>\n",
       "    <tr>\n",
       "      <th>14007</th>\n",
       "      <td>Lubnowy is part of the name of two villages, b...</td>\n",
       "    </tr>\n",
       "    <tr>\n",
       "      <th>14008</th>\n",
       "      <td>Rhamphomyia albohirta is a species of fly in t...</td>\n",
       "    </tr>\n",
       "    <tr>\n",
       "      <th>14009</th>\n",
       "      <td>Jawty () is part of the name of two villages, ...</td>\n",
       "    </tr>\n",
       "    <tr>\n",
       "      <th>14010</th>\n",
       "      <td>Spliatsch Castle () is a ruined castle in the ...</td>\n",
       "    </tr>\n",
       "    <tr>\n",
       "      <th>14011</th>\n",
       "      <td>Outagamie County Health Center, established in...</td>\n",
       "    </tr>\n",
       "  </tbody>\n",
       "</table>\n",
       "<p>14012 rows × 1 columns</p>\n",
       "</div>"
      ],
      "text/plain": [
       "                                                    text\n",
       "0      Aulacaganides is monospecific genus of a Middl...\n",
       "1      Mikko Outinen (born April 7, 1971) is a Finnis...\n",
       "2      Edith Beatrice Belcher Thurston (Birthdate Unk...\n",
       "3      The presidency of Dwight D. Eisenhower began o...\n",
       "4      is a Japanese actor, voice actor and narrator....\n",
       "...                                                  ...\n",
       "14007  Lubnowy is part of the name of two villages, b...\n",
       "14008  Rhamphomyia albohirta is a species of fly in t...\n",
       "14009  Jawty () is part of the name of two villages, ...\n",
       "14010  Spliatsch Castle () is a ruined castle in the ...\n",
       "14011  Outagamie County Health Center, established in...\n",
       "\n",
       "[14012 rows x 1 columns]"
      ]
     },
     "execution_count": 12,
     "metadata": {},
     "output_type": "execute_result"
    }
   ],
   "source": [
    "json_data = json_data.drop(['id', 'title'], axis=1)\n",
    "json_data"
   ]
  },
  {
   "cell_type": "code",
   "execution_count": 13,
   "metadata": {
    "colab": {
     "base_uri": "https://localhost:8080/",
     "height": 70
    },
    "id": "690wALfW5FBO",
    "outputId": "fb7ebd42-747a-434c-93dc-23cf17a1751f"
   },
   "outputs": [
    {
     "data": {
      "text/plain": [
       "'Rhamphomyia albohirta is a species of fly in the family Empididae. It is found in the Palearctic .Fauna EuropaeaBei-Bienko, G.Y. & Steyskal, G.C. (1988) Keys to the Insects of the European Part of the USSR, Volume V: Diptera and Siphonaptera, Parts I, II. Amerind Publishing Co., New Delhi. Collin, J.E. (1961) British Flies. VI. Empididae. Cambridge: Cambridge University Press. ==References== ==External links== *Images representing Rhamphomyia at BOLD *Ecology of Commanster Category:Empididae Category:Insects described in 1926 Category:Asilomorph flies of Europe '"
      ]
     },
     "execution_count": 13,
     "metadata": {},
     "output_type": "execute_result"
    }
   ],
   "source": [
    "## Some non related article text is contained. A lot have text between double == that needs removal\n",
    "\n",
    "json_data.iloc[-4].text"
   ]
  },
  {
   "cell_type": "code",
   "execution_count": 14,
   "metadata": {
    "colab": {
     "base_uri": "https://localhost:8080/",
     "height": 70
    },
    "id": "mGJPdNVT5L3N",
    "outputId": "7c690f1c-5d7a-49c7-cd60-bc47bb29d96d"
   },
   "outputs": [
    {
     "data": {
      "text/plain": [
       "'Rhamphomyia albohirta is a species of fly in the family Empididae. It is found in the Palearctic .Fauna EuropaeaBei-Bienko, G.Y. & Steyskal, G.C. (1988) Keys to the Insects of the European Part of the USSR, Volume V: Diptera and Siphonaptera, Parts I, II. Amerind Publishing Co., New Delhi. Collin, J.E. (1961) British Flies. VI. Empididae. Cambridge: Cambridge University Press.   *Images representing Rhamphomyia at BOLD *Ecology of Commanster Category:Empididae Category:Insects described in 1926 Category:Asilomorph flies of Europe '"
      ]
     },
     "execution_count": 14,
     "metadata": {},
     "output_type": "execute_result"
    }
   ],
   "source": [
    "## Remove all text between == == in json_data text column\n",
    "\n",
    "def remove_text_between_equals(text):\n",
    "  return re.sub(r'==.*?==', '', text)\n",
    "\n",
    "json_data['text'] = json_data['text'].apply(remove_text_between_equals)\n",
    "json_data.iloc[-4].text"
   ]
  },
  {
   "cell_type": "code",
   "execution_count": 15,
   "metadata": {
    "colab": {
     "base_uri": "https://localhost:8080/",
     "height": 424
    },
    "id": "sAhfWpB9rnfQ",
    "outputId": "583b07d0-651d-49c2-a45f-522af7c19b56"
   },
   "outputs": [
    {
     "data": {
      "text/html": [
       "<div>\n",
       "<style scoped>\n",
       "    .dataframe tbody tr th:only-of-type {\n",
       "        vertical-align: middle;\n",
       "    }\n",
       "\n",
       "    .dataframe tbody tr th {\n",
       "        vertical-align: top;\n",
       "    }\n",
       "\n",
       "    .dataframe thead th {\n",
       "        text-align: right;\n",
       "    }\n",
       "</style>\n",
       "<table border=\"1\" class=\"dataframe\">\n",
       "  <thead>\n",
       "    <tr style=\"text-align: right;\">\n",
       "      <th></th>\n",
       "      <th>sentences</th>\n",
       "    </tr>\n",
       "  </thead>\n",
       "  <tbody>\n",
       "    <tr>\n",
       "      <th>0</th>\n",
       "      <td>Aulacaganides is monospecific genus of a Middl...</td>\n",
       "    </tr>\n",
       "    <tr>\n",
       "      <th>1</th>\n",
       "      <td>Fossils belonging to this genera were found in...</td>\n",
       "    </tr>\n",
       "    <tr>\n",
       "      <th>2</th>\n",
       "      <td>This genus has small, involute and thickly dis...</td>\n",
       "    </tr>\n",
       "    <tr>\n",
       "      <th>3</th>\n",
       "      <td>Venter is rounded with gently convex lateral s...</td>\n",
       "    </tr>\n",
       "    <tr>\n",
       "      <th>4</th>\n",
       "      <td>Growth lines and constrictions are forming a s...</td>\n",
       "    </tr>\n",
       "    <tr>\n",
       "      <th>...</th>\n",
       "      <td>...</td>\n",
       "    </tr>\n",
       "    <tr>\n",
       "      <th>266077</th>\n",
       "      <td>In 2015 an effort was made to improve the near...</td>\n",
       "    </tr>\n",
       "    <tr>\n",
       "      <th>266078</th>\n",
       "      <td>A museum exhibit was created in 2016 for the O...</td>\n",
       "    </tr>\n",
       "    <tr>\n",
       "      <th>266079</th>\n",
       "      <td>The exhibit contains photographs, tools, testi...</td>\n",
       "    </tr>\n",
       "    <tr>\n",
       "      <th>266080</th>\n",
       "      <td>= George R. Downer (January 1890 – January 1, ...</td>\n",
       "    </tr>\n",
       "    <tr>\n",
       "      <th>266081</th>\n",
       "      <td>Category:1889 establishments in Wisconsin Cate...</td>\n",
       "    </tr>\n",
       "  </tbody>\n",
       "</table>\n",
       "<p>266080 rows × 1 columns</p>\n",
       "</div>"
      ],
      "text/plain": [
       "                                                sentences\n",
       "0       Aulacaganides is monospecific genus of a Middl...\n",
       "1       Fossils belonging to this genera were found in...\n",
       "2       This genus has small, involute and thickly dis...\n",
       "3       Venter is rounded with gently convex lateral s...\n",
       "4       Growth lines and constrictions are forming a s...\n",
       "...                                                   ...\n",
       "266077  In 2015 an effort was made to improve the near...\n",
       "266078  A museum exhibit was created in 2016 for the O...\n",
       "266079  The exhibit contains photographs, tools, testi...\n",
       "266080  = George R. Downer (January 1890 – January 1, ...\n",
       "266081  Category:1889 establishments in Wisconsin Cate...\n",
       "\n",
       "[266080 rows x 1 columns]"
      ]
     },
     "execution_count": 15,
     "metadata": {},
     "output_type": "execute_result"
    }
   ],
   "source": [
    "## Split the text in json_data into sentances, then assign each sentence to it's own row.\n",
    "\n",
    "json_data_cleaned = json_data.copy()\n",
    "json_data_cleaned['sentences'] = json_data_cleaned['text'].apply(sent_tokenize)\n",
    "json_data_cleaned = json_data_cleaned.explode('sentences')\n",
    "json_data_cleaned = json_data_cleaned.reset_index(drop=True).drop(columns = {'text'}).dropna()\n",
    "json_data_cleaned"
   ]
  },
  {
   "cell_type": "code",
   "execution_count": 16,
   "metadata": {
    "id": "QjHAQmpZrnhx"
   },
   "outputs": [],
   "source": [
    "## Helper function to clean the text\n",
    "\n",
    "def remove_special_chars(text):\n",
    "    text = re.sub(r'[^\\x00-\\x7F]+', '', text)  # Remove non - ASCII characters\n",
    "    text = re.sub(r'[^a-zA-Z0-9\\s]', '', text) # Remove special characters except spaces\n",
    "    return text"
   ]
  },
  {
   "cell_type": "code",
   "execution_count": 17,
   "metadata": {
    "colab": {
     "base_uri": "https://localhost:8080/",
     "height": 424
    },
    "id": "P_6BCvMxrnkv",
    "outputId": "9acd040e-99a4-47ae-c891-b2686b8554e9"
   },
   "outputs": [
    {
     "data": {
      "text/html": [
       "<div>\n",
       "<style scoped>\n",
       "    .dataframe tbody tr th:only-of-type {\n",
       "        vertical-align: middle;\n",
       "    }\n",
       "\n",
       "    .dataframe tbody tr th {\n",
       "        vertical-align: top;\n",
       "    }\n",
       "\n",
       "    .dataframe thead th {\n",
       "        text-align: right;\n",
       "    }\n",
       "</style>\n",
       "<table border=\"1\" class=\"dataframe\">\n",
       "  <thead>\n",
       "    <tr style=\"text-align: right;\">\n",
       "      <th></th>\n",
       "      <th>sentences</th>\n",
       "    </tr>\n",
       "  </thead>\n",
       "  <tbody>\n",
       "    <tr>\n",
       "      <th>0</th>\n",
       "      <td>aulacaganides is monospecific genus of a middl...</td>\n",
       "    </tr>\n",
       "    <tr>\n",
       "      <th>1</th>\n",
       "      <td>fossils belonging to this genera were found in...</td>\n",
       "    </tr>\n",
       "    <tr>\n",
       "      <th>2</th>\n",
       "      <td>this genus has small involute and thickly disc...</td>\n",
       "    </tr>\n",
       "    <tr>\n",
       "      <th>3</th>\n",
       "      <td>venter is rounded with gently convex lateral s...</td>\n",
       "    </tr>\n",
       "    <tr>\n",
       "      <th>4</th>\n",
       "      <td>growth lines and constrictions are forming a s...</td>\n",
       "    </tr>\n",
       "    <tr>\n",
       "      <th>...</th>\n",
       "      <td>...</td>\n",
       "    </tr>\n",
       "    <tr>\n",
       "      <th>266077</th>\n",
       "      <td>in 2015 an effort was made to improve the near...</td>\n",
       "    </tr>\n",
       "    <tr>\n",
       "      <th>266078</th>\n",
       "      <td>a museum exhibit was created in 2016 for the o...</td>\n",
       "    </tr>\n",
       "    <tr>\n",
       "      <th>266079</th>\n",
       "      <td>the exhibit contains photographs tools testimo...</td>\n",
       "    </tr>\n",
       "    <tr>\n",
       "      <th>266080</th>\n",
       "      <td>george r downer january 1890  january 1 1915 ...</td>\n",
       "    </tr>\n",
       "    <tr>\n",
       "      <th>266081</th>\n",
       "      <td>category1889 establishments in wisconsin categ...</td>\n",
       "    </tr>\n",
       "  </tbody>\n",
       "</table>\n",
       "<p>266080 rows × 1 columns</p>\n",
       "</div>"
      ],
      "text/plain": [
       "                                                sentences\n",
       "0       aulacaganides is monospecific genus of a middl...\n",
       "1       fossils belonging to this genera were found in...\n",
       "2       this genus has small involute and thickly disc...\n",
       "3       venter is rounded with gently convex lateral s...\n",
       "4       growth lines and constrictions are forming a s...\n",
       "...                                                   ...\n",
       "266077  in 2015 an effort was made to improve the near...\n",
       "266078  a museum exhibit was created in 2016 for the o...\n",
       "266079  the exhibit contains photographs tools testimo...\n",
       "266080   george r downer january 1890  january 1 1915 ...\n",
       "266081  category1889 establishments in wisconsin categ...\n",
       "\n",
       "[266080 rows x 1 columns]"
      ]
     },
     "execution_count": 17,
     "metadata": {},
     "output_type": "execute_result"
    }
   ],
   "source": [
    "## Lowercase the sentences text and remove special characters\n",
    "\n",
    "json_data_cleaned['sentences'] = json_data_cleaned['sentences'].str.lower()\n",
    "json_data_cleaned['sentences'] = json_data_cleaned['sentences'].apply(remove_special_chars)\n",
    "json_data_cleaned"
   ]
  },
  {
   "cell_type": "markdown",
   "metadata": {
    "id": "mOhd00wT7ElJ"
   },
   "source": [
    "Setup the new input and target columns using masked sentences and the masked word."
   ]
  },
  {
   "cell_type": "code",
   "execution_count": 19,
   "metadata": {
    "colab": {
     "base_uri": "https://localhost:8080/",
     "height": 424
    },
    "id": "jeQr0vO457zM",
    "outputId": "c9e0a5aa-9e06-4857-d890-36c143d68778"
   },
   "outputs": [
    {
     "data": {
      "text/html": [
       "<div>\n",
       "<style scoped>\n",
       "    .dataframe tbody tr th:only-of-type {\n",
       "        vertical-align: middle;\n",
       "    }\n",
       "\n",
       "    .dataframe tbody tr th {\n",
       "        vertical-align: top;\n",
       "    }\n",
       "\n",
       "    .dataframe thead th {\n",
       "        text-align: right;\n",
       "    }\n",
       "</style>\n",
       "<table border=\"1\" class=\"dataframe\">\n",
       "  <thead>\n",
       "    <tr style=\"text-align: right;\">\n",
       "      <th></th>\n",
       "      <th>sentences</th>\n",
       "      <th>masked_sentences</th>\n",
       "      <th>target</th>\n",
       "    </tr>\n",
       "  </thead>\n",
       "  <tbody>\n",
       "    <tr>\n",
       "      <th>0</th>\n",
       "      <td>aulacaganides is monospecific genus of a middl...</td>\n",
       "      <td>aulacaganides is monospecific genus of a middl...</td>\n",
       "      <td>goniatitid</td>\n",
       "    </tr>\n",
       "    <tr>\n",
       "      <th>1</th>\n",
       "      <td>fossils belonging to this genera were found in...</td>\n",
       "      <td>fossils belonging to this genera were &lt;MASK&gt; i...</td>\n",
       "      <td>found</td>\n",
       "    </tr>\n",
       "    <tr>\n",
       "      <th>2</th>\n",
       "      <td>this genus has small involute and thickly disc...</td>\n",
       "      <td>this &lt;MASK&gt; has small involute and thickly dis...</td>\n",
       "      <td>genus</td>\n",
       "    </tr>\n",
       "    <tr>\n",
       "      <th>3</th>\n",
       "      <td>venter is rounded with gently convex lateral s...</td>\n",
       "      <td>venter is rounded with gently convex lateral s...</td>\n",
       "      <td>on</td>\n",
       "    </tr>\n",
       "    <tr>\n",
       "      <th>4</th>\n",
       "      <td>growth lines and constrictions are forming a s...</td>\n",
       "      <td>growth lines and &lt;MASK&gt; are forming a sinus on...</td>\n",
       "      <td>constrictions</td>\n",
       "    </tr>\n",
       "    <tr>\n",
       "      <th>...</th>\n",
       "      <td>...</td>\n",
       "      <td>...</td>\n",
       "      <td>...</td>\n",
       "    </tr>\n",
       "    <tr>\n",
       "      <th>266077</th>\n",
       "      <td>in 2015 an effort was made to improve the near...</td>\n",
       "      <td>in 2015 an effort was made to improve &lt;MASK&gt; n...</td>\n",
       "      <td>the</td>\n",
       "    </tr>\n",
       "    <tr>\n",
       "      <th>266078</th>\n",
       "      <td>a museum exhibit was created in 2016 for the o...</td>\n",
       "      <td>a museum exhibit was created in 2016 for the o...</td>\n",
       "      <td>museum</td>\n",
       "    </tr>\n",
       "    <tr>\n",
       "      <th>266079</th>\n",
       "      <td>the exhibit contains photographs tools testimo...</td>\n",
       "      <td>the &lt;MASK&gt; contains photographs tools testimon...</td>\n",
       "      <td>exhibit</td>\n",
       "    </tr>\n",
       "    <tr>\n",
       "      <th>266080</th>\n",
       "      <td>george r downer january 1890  january 1 1915 ...</td>\n",
       "      <td>george r downer january 1890 january 1 1915 th...</td>\n",
       "      <td>30</td>\n",
       "    </tr>\n",
       "    <tr>\n",
       "      <th>266081</th>\n",
       "      <td>category1889 establishments in wisconsin categ...</td>\n",
       "      <td>category1889 establishments in wisconsin categ...</td>\n",
       "      <td>in</td>\n",
       "    </tr>\n",
       "  </tbody>\n",
       "</table>\n",
       "<p>266080 rows × 3 columns</p>\n",
       "</div>"
      ],
      "text/plain": [
       "                                                sentences  \\\n",
       "0       aulacaganides is monospecific genus of a middl...   \n",
       "1       fossils belonging to this genera were found in...   \n",
       "2       this genus has small involute and thickly disc...   \n",
       "3       venter is rounded with gently convex lateral s...   \n",
       "4       growth lines and constrictions are forming a s...   \n",
       "...                                                   ...   \n",
       "266077  in 2015 an effort was made to improve the near...   \n",
       "266078  a museum exhibit was created in 2016 for the o...   \n",
       "266079  the exhibit contains photographs tools testimo...   \n",
       "266080   george r downer january 1890  january 1 1915 ...   \n",
       "266081  category1889 establishments in wisconsin categ...   \n",
       "\n",
       "                                         masked_sentences         target  \n",
       "0       aulacaganides is monospecific genus of a middl...     goniatitid  \n",
       "1       fossils belonging to this genera were <MASK> i...          found  \n",
       "2       this <MASK> has small involute and thickly dis...          genus  \n",
       "3       venter is rounded with gently convex lateral s...             on  \n",
       "4       growth lines and <MASK> are forming a sinus on...  constrictions  \n",
       "...                                                   ...            ...  \n",
       "266077  in 2015 an effort was made to improve <MASK> n...            the  \n",
       "266078  a museum exhibit was created in 2016 for the o...         museum  \n",
       "266079  the <MASK> contains photographs tools testimon...        exhibit  \n",
       "266080  george r downer january 1890 january 1 1915 th...             30  \n",
       "266081  category1889 establishments in wisconsin categ...             in  \n",
       "\n",
       "[266080 rows x 3 columns]"
      ]
     },
     "execution_count": 19,
     "metadata": {},
     "output_type": "execute_result"
    }
   ],
   "source": [
    "## Randomly mask a word in each row in json_data, then add that word to an associated target column.\n",
    "\n",
    "def mask_word(text):\n",
    "    words = text.split()\n",
    "    if not words:  # Handle empty strings\n",
    "        return text, \"\"\n",
    "    random_index = random.randint(0, len(words) - 1)\n",
    "    target_word = words[random_index]\n",
    "    words[random_index] = \"<MASK>\"\n",
    "    masked_text = \" \".join(words)\n",
    "    return masked_text, target_word\n",
    "\n",
    "json_data_cleaned[['masked_sentences', 'target']] = json_data_cleaned['sentences'].apply(lambda x: pd.Series(mask_word(x)))\n",
    "json_data_cleaned"
   ]
  },
  {
   "cell_type": "code",
   "execution_count": 20,
   "metadata": {
    "colab": {
     "base_uri": "https://localhost:8080/"
    },
    "id": "vxgeZKVt6ld7",
    "outputId": "4c58a938-6357-49cf-e119-61005abdbc6e"
   },
   "outputs": [
    {
     "name": "stdout",
     "output_type": "stream",
     "text": [
      "aulacaganides is monospecific genus of a middle permian ammonite belonging to the goniatitid family pseudohaloritidae\n",
      "aulacaganides is monospecific genus of a middle permian ammonite belonging to the <MASK> family pseudohaloritidae\n",
      "goniatitid \n",
      "\n",
      "fossils belonging to this genera were found in hunan province of china\n",
      "fossils belonging to this genera were <MASK> in hunan province of china\n",
      "found \n",
      "\n",
      "this genus has small involute and thickly discoidal shell with central siphuncle\n",
      "this <MASK> has small involute and thickly discoidal shell with central siphuncle\n",
      "genus \n",
      "\n"
     ]
    }
   ],
   "source": [
    "## Display examples of the changes\n",
    "\n",
    "for i in range(3):\n",
    "  print(json_data_cleaned.iloc[i].sentences)\n",
    "  print(json_data_cleaned.iloc[i].masked_sentences)\n",
    "  print(json_data_cleaned.iloc[i].target, '\\n')"
   ]
  },
  {
   "cell_type": "markdown",
   "metadata": {
    "id": "9Nh6E7Iq66dC"
   },
   "source": [
    "Examine the cleaned data."
   ]
  },
  {
   "cell_type": "code",
   "execution_count": 22,
   "metadata": {
    "colab": {
     "base_uri": "https://localhost:8080/"
    },
    "id": "dkdjo1kF6zB5",
    "outputId": "b0b90952-401d-4292-f409-2d4a6480b0fe"
   },
   "outputs": [
    {
     "name": "stdout",
     "output_type": "stream",
     "text": [
      "the: 294975\n",
      "of: 159873\n",
      "in: 137354\n",
      "and: 124425\n",
      "a: 89190\n",
      "to: 80054\n",
      "was: 51032\n",
      "on: 40321\n",
      "for: 37329\n",
      "is: 37246\n"
     ]
    }
   ],
   "source": [
    "# Combine all text data into a single string\n",
    "all_text = ' '.join(json_data_cleaned['sentences'].astype(str))\n",
    "\n",
    "# Tokenize the text and count word frequencies\n",
    "word_counts = Counter(all_text.split())\n",
    "\n",
    "# Get the top 10 most frequent words\n",
    "top_10_words = word_counts.most_common(10)\n",
    "\n",
    "# Print the top 10 words and their frequencies, since stopwords are not removed they will occupy the top\n",
    "for word, count in top_10_words:\n",
    "  print(f\"{word}: {count}\")"
   ]
  },
  {
   "cell_type": "code",
   "execution_count": 23,
   "metadata": {
    "colab": {
     "base_uri": "https://localhost:8080/",
     "height": 436
    },
    "id": "zhOTxTA97MhR",
    "outputId": "9ecb585e-4709-496b-f9e0-9ba1ac861f8b"
   },
   "outputs": [
    {
     "data": {
      "image/png": "[encoded data removed]",
      "text/plain": [
       "<Figure size 800x500 with 1 Axes>"
      ]
     },
     "metadata": {},
     "output_type": "display_data"
    }
   ],
   "source": [
    "## Display a word cloud\n",
    "\n",
    "wordcloud = WordCloud(width = 800, height = 400, background_color = 'white').generate(all_text)\n",
    "plt.figure(figsize = (8, 5), facecolor = None)\n",
    "plt.imshow(wordcloud)\n",
    "plt.axis(\"off\")\n",
    "plt.tight_layout(pad = 0)\n",
    "plt.show()"
   ]
  },
  {
   "cell_type": "code",
   "execution_count": 30,
   "metadata": {
    "colab": {
     "base_uri": "https://localhost:8080/"
    },
    "id": "5WeKwmVl7-E6",
    "outputId": "e52965cb-04b1-4830-98e1-e265292ca809"
   },
   "outputs": [
    {
     "name": "stdout",
     "output_type": "stream",
     "text": [
      "42927\n"
     ]
    }
   ],
   "source": [
    "print(len(json_data_cleaned['target'].unique()))"
   ]
  },
  {
   "cell_type": "code",
   "execution_count": 36,
   "metadata": {},
   "outputs": [
    {
     "data": {
      "text/plain": [
       "count    42927.000000\n",
       "mean         6.198430\n",
       "std         97.186725\n",
       "min          1.000000\n",
       "25%          1.000000\n",
       "50%          1.000000\n",
       "75%          2.000000\n",
       "max      13177.000000\n",
       "Name: count, dtype: float64"
      ]
     },
     "execution_count": 36,
     "metadata": {},
     "output_type": "execute_result"
    }
   ],
   "source": [
    "## Display summary statistics for json_data_cleaned['target'] summary statistics\n",
    "\n",
    "json_data_cleaned['target'].value_counts().describe()"
   ]
  },
  {
   "cell_type": "code",
   "execution_count": 37,
   "metadata": {},
   "outputs": [
    {
     "name": "stdout",
     "output_type": "stream",
     "text": [
      "0% percentile: 1.00\n",
      "5% percentile: 1.00\n",
      "10% percentile: 1.00\n",
      "15% percentile: 1.00\n",
      "20% percentile: 1.00\n",
      "25% percentile: 1.00\n",
      "30% percentile: 1.00\n",
      "35% percentile: 1.00\n",
      "40% percentile: 1.00\n",
      "45% percentile: 1.00\n",
      "50% percentile: 1.00\n",
      "55% percentile: 1.00\n",
      "60% percentile: 1.00\n",
      "65% percentile: 2.00\n",
      "70% percentile: 2.00\n",
      "75% percentile: 2.00\n",
      "80% percentile: 3.00\n",
      "85% percentile: 4.00\n",
      "90% percentile: 7.00\n",
      "95% percentile: 14.00\n"
     ]
    }
   ],
   "source": [
    "## Display json_data_cleaned['target'] frequencies for every 5% percentile\n",
    "\n",
    "# Calculate percentiles for the target frequencies\n",
    "percentiles = np.arange(0, 1, 0.05)\n",
    "target_frequencies = json_data_cleaned['target'].value_counts()\n",
    "percentile_values = np.percentile(target_frequencies.values, percentiles * 100)\n",
    "\n",
    "# Display the frequencies at each percentile\n",
    "for i, percentile in enumerate(percentiles):\n",
    "  print(f\"{percentile*100:.0f}% percentile: {percentile_values[i]:.2f}\")"
   ]
  },
  {
   "cell_type": "code",
   "execution_count": 231,
   "metadata": {},
   "outputs": [
    {
     "name": "stdout",
     "output_type": "stream",
     "text": [
      "count       10.000000\n",
      "mean      4731.200000\n",
      "std       3482.128398\n",
      "min       1508.000000\n",
      "25%       2316.750000\n",
      "50%       3851.000000\n",
      "75%       6108.250000\n",
      "max      13177.000000\n",
      "Name: count, dtype: float64\n"
     ]
    },
    {
     "data": {
      "text/html": [
       "<div>\n",
       "<style scoped>\n",
       "    .dataframe tbody tr th:only-of-type {\n",
       "        vertical-align: middle;\n",
       "    }\n",
       "\n",
       "    .dataframe tbody tr th {\n",
       "        vertical-align: top;\n",
       "    }\n",
       "\n",
       "    .dataframe thead th {\n",
       "        text-align: right;\n",
       "    }\n",
       "</style>\n",
       "<table border=\"1\" class=\"dataframe\">\n",
       "  <thead>\n",
       "    <tr style=\"text-align: right;\">\n",
       "      <th></th>\n",
       "      <th>sentences</th>\n",
       "      <th>masked_sentences</th>\n",
       "      <th>target</th>\n",
       "    </tr>\n",
       "  </thead>\n",
       "  <tbody>\n",
       "    <tr>\n",
       "      <th>0</th>\n",
       "      <td>venter is rounded with gently convex lateral s...</td>\n",
       "      <td>venter is rounded with gently convex lateral s...</td>\n",
       "      <td>on</td>\n",
       "    </tr>\n",
       "    <tr>\n",
       "      <th>1</th>\n",
       "      <td>it is similar to neoganides with which it shar...</td>\n",
       "      <td>it &lt;MASK&gt; similar to neoganides with which it ...</td>\n",
       "      <td>is</td>\n",
       "    </tr>\n",
       "    <tr>\n",
       "      <th>2</th>\n",
       "      <td>kookoo of the finnish liiga retired his number...</td>\n",
       "      <td>kookoo of the finnish liiga retired his number...</td>\n",
       "      <td>the</td>\n",
       "    </tr>\n",
       "    <tr>\n",
       "      <th>3</th>\n",
       "      <td>a</td>\n",
       "      <td>&lt;MASK&gt;</td>\n",
       "      <td>a</td>\n",
       "    </tr>\n",
       "    <tr>\n",
       "      <th>4</th>\n",
       "      <td>a</td>\n",
       "      <td>&lt;MASK&gt;</td>\n",
       "      <td>a</td>\n",
       "    </tr>\n",
       "    <tr>\n",
       "      <th>...</th>\n",
       "      <td>...</td>\n",
       "      <td>...</td>\n",
       "      <td>...</td>\n",
       "    </tr>\n",
       "    <tr>\n",
       "      <th>47307</th>\n",
       "      <td>1966 was the last year that outagamie county h...</td>\n",
       "      <td>1966 &lt;MASK&gt; the last year that outagamie count...</td>\n",
       "      <td>was</td>\n",
       "    </tr>\n",
       "    <tr>\n",
       "      <th>47308</th>\n",
       "      <td>with its former name area residents would come...</td>\n",
       "      <td>with its former name area residents would come...</td>\n",
       "      <td>of</td>\n",
       "    </tr>\n",
       "    <tr>\n",
       "      <th>47309</th>\n",
       "      <td>the outagamie county asylum cemetery exists no...</td>\n",
       "      <td>the outagamie county asylum cemetery exists no...</td>\n",
       "      <td>and</td>\n",
       "    </tr>\n",
       "    <tr>\n",
       "      <th>47310</th>\n",
       "      <td>in 2015 an effort was made to improve the near...</td>\n",
       "      <td>in 2015 an effort was made to improve &lt;MASK&gt; n...</td>\n",
       "      <td>the</td>\n",
       "    </tr>\n",
       "    <tr>\n",
       "      <th>47311</th>\n",
       "      <td>category1889 establishments in wisconsin categ...</td>\n",
       "      <td>category1889 establishments in wisconsin categ...</td>\n",
       "      <td>in</td>\n",
       "    </tr>\n",
       "  </tbody>\n",
       "</table>\n",
       "<p>47312 rows × 3 columns</p>\n",
       "</div>"
      ],
      "text/plain": [
       "                                               sentences  \\\n",
       "0      venter is rounded with gently convex lateral s...   \n",
       "1      it is similar to neoganides with which it shar...   \n",
       "2      kookoo of the finnish liiga retired his number...   \n",
       "3                                                     a    \n",
       "4                                                     a    \n",
       "...                                                  ...   \n",
       "47307  1966 was the last year that outagamie county h...   \n",
       "47308  with its former name area residents would come...   \n",
       "47309  the outagamie county asylum cemetery exists no...   \n",
       "47310  in 2015 an effort was made to improve the near...   \n",
       "47311  category1889 establishments in wisconsin categ...   \n",
       "\n",
       "                                        masked_sentences target  \n",
       "0      venter is rounded with gently convex lateral s...     on  \n",
       "1      it <MASK> similar to neoganides with which it ...     is  \n",
       "2      kookoo of the finnish liiga retired his number...    the  \n",
       "3                                                 <MASK>      a  \n",
       "4                                                 <MASK>      a  \n",
       "...                                                  ...    ...  \n",
       "47307  1966 <MASK> the last year that outagamie count...    was  \n",
       "47308  with its former name area residents would come...     of  \n",
       "47309  the outagamie county asylum cemetery exists no...    and  \n",
       "47310  in 2015 an effort was made to improve <MASK> n...    the  \n",
       "47311  category1889 establishments in wisconsin categ...     in  \n",
       "\n",
       "[47312 rows x 3 columns]"
      ]
     },
     "execution_count": 231,
     "metadata": {},
     "output_type": "execute_result"
    }
   ],
   "source": [
    "## Drop rows where json_data_cleaned['target'] is not in the top 10 most frequent\n",
    "\n",
    "# Combine all target words into a single string\n",
    "all_targets = ' '.join(json_data_cleaned['target'].astype(str))\n",
    "\n",
    "# Tokenize the target words and count their frequencies\n",
    "word_counts = Counter(all_targets.split())\n",
    "\n",
    "# Get the top 10 most frequent words\n",
    "top_10_words = word_counts.most_common(10)\n",
    "\n",
    "# Create a set of the top 10 words for efficient lookup\n",
    "top_10_words_set = set([word for word, count in top_10_words])\n",
    "\n",
    "# Filter the DataFrame\n",
    "json_data_cleaned_reduced = json_data_cleaned[json_data_cleaned['target'].isin(top_10_words_set)].reset_index(drop=True)\n",
    "print(json_data_cleaned_reduced['target'].value_counts().describe())\n",
    "json_data_cleaned_reduced"
   ]
  },
  {
   "cell_type": "markdown",
   "metadata": {
    "id": "qvpQg6BC8Kd5"
   },
   "source": [
    "The target column is composed of a large number of classes. This indicates that a substantially large corpus of text would be required to get good results such as what is done with modern Large Language Models. Due to this and to reduce training time, the top most frequent 10 words will be kept, resulting in about a 5.6 times decrease in rows in the dataframe. The models attempted here will not perform as well as they did in class projects with binary targets, though it will still result in an interesting attempt."
   ]
  },
  {
   "cell_type": "markdown",
   "metadata": {
    "id": "jhwyZwY8uh2t"
   },
   "source": [
    "## Model Architecture, Results, and Analysis\n",
    "\n",
    "In this section, multiple reccurent neural networks will be attempted and compared. The results and analysis for them will be included."
   ]
  },
  {
   "cell_type": "markdown",
   "metadata": {
    "id": "7s1qxggi7uih"
   },
   "source": [
    "Transform the data into series usable by keras models. The words will be assigned indexes through tokenization. The sentences will replace each word with the index, then standardize the input length."
   ]
  },
  {
   "cell_type": "code",
   "execution_count": 235,
   "metadata": {
    "id": "kQS_IqIarnm_"
   },
   "outputs": [],
   "source": [
    "## Prepare the train data for the RNN models\n",
    "\n",
    "X = json_data_cleaned_reduced['masked_sentences']\n",
    "y = json_data_cleaned_reduced['target']\n",
    "\n",
    "tokenizer = Tokenizer()\n",
    "tokenizer.fit_on_texts(X)\n",
    "X_seq = tokenizer.texts_to_sequences(X)\n",
    "X_pad = pad_sequences(X_seq)"
   ]
  },
  {
   "cell_type": "code",
   "execution_count": 237,
   "metadata": {
    "colab": {
     "base_uri": "https://localhost:8080/",
     "height": 424
    },
    "id": "4Dc3ZetMHsjQ",
    "outputId": "64f9f157-dda2-40c8-e009-61f36f0a37d1"
   },
   "outputs": [
    {
     "data": {
      "text/html": [
       "<div>\n",
       "<style scoped>\n",
       "    .dataframe tbody tr th:only-of-type {\n",
       "        vertical-align: middle;\n",
       "    }\n",
       "\n",
       "    .dataframe tbody tr th {\n",
       "        vertical-align: top;\n",
       "    }\n",
       "\n",
       "    .dataframe thead th {\n",
       "        text-align: right;\n",
       "    }\n",
       "</style>\n",
       "<table border=\"1\" class=\"dataframe\">\n",
       "  <thead>\n",
       "    <tr style=\"text-align: right;\">\n",
       "      <th></th>\n",
       "      <th>sentences</th>\n",
       "      <th>masked_sentences</th>\n",
       "      <th>target</th>\n",
       "      <th>target_tokenized</th>\n",
       "    </tr>\n",
       "  </thead>\n",
       "  <tbody>\n",
       "    <tr>\n",
       "      <th>0</th>\n",
       "      <td>venter is rounded with gently convex lateral s...</td>\n",
       "      <td>venter is rounded with gently convex lateral s...</td>\n",
       "      <td>on</td>\n",
       "      <td>[10]</td>\n",
       "    </tr>\n",
       "    <tr>\n",
       "      <th>1</th>\n",
       "      <td>it is similar to neoganides with which it shar...</td>\n",
       "      <td>it &lt;MASK&gt; similar to neoganides with which it ...</td>\n",
       "      <td>is</td>\n",
       "      <td>[9]</td>\n",
       "    </tr>\n",
       "    <tr>\n",
       "      <th>2</th>\n",
       "      <td>kookoo of the finnish liiga retired his number...</td>\n",
       "      <td>kookoo of the finnish liiga retired his number...</td>\n",
       "      <td>the</td>\n",
       "      <td>[1]</td>\n",
       "    </tr>\n",
       "    <tr>\n",
       "      <th>3</th>\n",
       "      <td>a</td>\n",
       "      <td>&lt;MASK&gt;</td>\n",
       "      <td>a</td>\n",
       "      <td>[6]</td>\n",
       "    </tr>\n",
       "    <tr>\n",
       "      <th>4</th>\n",
       "      <td>a</td>\n",
       "      <td>&lt;MASK&gt;</td>\n",
       "      <td>a</td>\n",
       "      <td>[6]</td>\n",
       "    </tr>\n",
       "    <tr>\n",
       "      <th>...</th>\n",
       "      <td>...</td>\n",
       "      <td>...</td>\n",
       "      <td>...</td>\n",
       "      <td>...</td>\n",
       "    </tr>\n",
       "    <tr>\n",
       "      <th>47307</th>\n",
       "      <td>1966 was the last year that outagamie county h...</td>\n",
       "      <td>1966 &lt;MASK&gt; the last year that outagamie count...</td>\n",
       "      <td>was</td>\n",
       "      <td>[8]</td>\n",
       "    </tr>\n",
       "    <tr>\n",
       "      <th>47308</th>\n",
       "      <td>with its former name area residents would come...</td>\n",
       "      <td>with its former name area residents would come...</td>\n",
       "      <td>of</td>\n",
       "      <td>[3]</td>\n",
       "    </tr>\n",
       "    <tr>\n",
       "      <th>47309</th>\n",
       "      <td>the outagamie county asylum cemetery exists no...</td>\n",
       "      <td>the outagamie county asylum cemetery exists no...</td>\n",
       "      <td>and</td>\n",
       "      <td>[5]</td>\n",
       "    </tr>\n",
       "    <tr>\n",
       "      <th>47310</th>\n",
       "      <td>in 2015 an effort was made to improve the near...</td>\n",
       "      <td>in 2015 an effort was made to improve &lt;MASK&gt; n...</td>\n",
       "      <td>the</td>\n",
       "      <td>[1]</td>\n",
       "    </tr>\n",
       "    <tr>\n",
       "      <th>47311</th>\n",
       "      <td>category1889 establishments in wisconsin categ...</td>\n",
       "      <td>category1889 establishments in wisconsin categ...</td>\n",
       "      <td>in</td>\n",
       "      <td>[4]</td>\n",
       "    </tr>\n",
       "  </tbody>\n",
       "</table>\n",
       "<p>47312 rows × 4 columns</p>\n",
       "</div>"
      ],
      "text/plain": [
       "                                               sentences  \\\n",
       "0      venter is rounded with gently convex lateral s...   \n",
       "1      it is similar to neoganides with which it shar...   \n",
       "2      kookoo of the finnish liiga retired his number...   \n",
       "3                                                     a    \n",
       "4                                                     a    \n",
       "...                                                  ...   \n",
       "47307  1966 was the last year that outagamie county h...   \n",
       "47308  with its former name area residents would come...   \n",
       "47309  the outagamie county asylum cemetery exists no...   \n",
       "47310  in 2015 an effort was made to improve the near...   \n",
       "47311  category1889 establishments in wisconsin categ...   \n",
       "\n",
       "                                        masked_sentences target  \\\n",
       "0      venter is rounded with gently convex lateral s...     on   \n",
       "1      it <MASK> similar to neoganides with which it ...     is   \n",
       "2      kookoo of the finnish liiga retired his number...    the   \n",
       "3                                                 <MASK>      a   \n",
       "4                                                 <MASK>      a   \n",
       "...                                                  ...    ...   \n",
       "47307  1966 <MASK> the last year that outagamie count...    was   \n",
       "47308  with its former name area residents would come...     of   \n",
       "47309  the outagamie county asylum cemetery exists no...    and   \n",
       "47310  in 2015 an effort was made to improve <MASK> n...    the   \n",
       "47311  category1889 establishments in wisconsin categ...     in   \n",
       "\n",
       "      target_tokenized  \n",
       "0                 [10]  \n",
       "1                  [9]  \n",
       "2                  [1]  \n",
       "3                  [6]  \n",
       "4                  [6]  \n",
       "...                ...  \n",
       "47307              [8]  \n",
       "47308              [3]  \n",
       "47309              [5]  \n",
       "47310              [1]  \n",
       "47311              [4]  \n",
       "\n",
       "[47312 rows x 4 columns]"
      ]
     },
     "execution_count": 237,
     "metadata": {},
     "output_type": "execute_result"
    }
   ],
   "source": [
    "## Use the tokenizer to transform the target column in json_data_cleaned\n",
    "\n",
    "y_seq = tokenizer.texts_to_sequences(json_data_cleaned_reduced['target'])\n",
    "y_pad = pad_sequences(y_seq)\n",
    "json_data_cleaned_reduced['target_tokenized'] = y_pad.tolist()\n",
    "json_data_cleaned_reduced"
   ]
  },
  {
   "cell_type": "code",
   "execution_count": 239,
   "metadata": {
    "id": "i4IRWypDHqQY"
   },
   "outputs": [],
   "source": [
    "X_train, X_test, y_train, y_test = train_test_split(X_pad, y_pad, test_size = 0.2, random_state = 0)"
   ]
  },
  {
   "cell_type": "code",
   "execution_count": 241,
   "metadata": {
    "colab": {
     "base_uri": "https://localhost:8080/"
    },
    "id": "fo_aywvxrnuX",
    "outputId": "bbdd9d83-2f24-4d75-bd98-58c4a7f82039"
   },
   "outputs": [
    {
     "name": "stdout",
     "output_type": "stream",
     "text": [
      "Number of observations: 37849\n"
     ]
    },
    {
     "data": {
      "text/plain": [
       "array([[    0,     0,     0, ..., 42082,   125,  1407],\n",
       "       [    0,     0,     0, ...,     7,   519,   257],\n",
       "       [    0,     0,     0, ..., 80390,   115,  2503],\n",
       "       ...,\n",
       "       [    0,     0,     0, ...,     6,  1497, 12159],\n",
       "       [    0,     0,     0, ..., 12407,   786,  1964],\n",
       "       [    0,     0,     0, ...,    30,    40,  1226]], dtype=int32)"
      ]
     },
     "execution_count": 241,
     "metadata": {},
     "output_type": "execute_result"
    }
   ],
   "source": [
    "print(f\"Number of observations: {X_train.shape[0]}\")\n",
    "X_train"
   ]
  },
  {
   "cell_type": "code",
   "execution_count": 243,
   "metadata": {
    "colab": {
     "base_uri": "https://localhost:8080/"
    },
    "id": "Vg5TpqxkFl-x",
    "outputId": "ed7eb8c1-1ad2-465f-f0f8-d351c306feb1"
   },
   "outputs": [
    {
     "name": "stdout",
     "output_type": "stream",
     "text": [
      "Number of observations: 9463\n"
     ]
    },
    {
     "data": {
      "text/plain": [
       "array([[    0,     0,     0, ...,     5,   145,   608],\n",
       "       [    0,     0,     0, ...,     2,  1647,  6089],\n",
       "       [    0,     0,     0, ...,     2,  2889,  3850],\n",
       "       ...,\n",
       "       [    0,     0,     0, ...,  1375,   510,   262],\n",
       "       [    0,     0,     0, ..., 10826,    18,   844],\n",
       "       [    0,     0,     0, ...,  2938,     4,  4819]], dtype=int32)"
      ]
     },
     "execution_count": 243,
     "metadata": {},
     "output_type": "execute_result"
    }
   ],
   "source": [
    "print(f\"Number of observations: {X_test.shape[0]}\")\n",
    "X_test"
   ]
  },
  {
   "cell_type": "code",
   "execution_count": 245,
   "metadata": {
    "colab": {
     "base_uri": "https://localhost:8080/"
    },
    "id": "oqaS6kGDJGIG",
    "outputId": "006afc0c-53c8-405f-9b97-d1eaa9b1386a"
   },
   "outputs": [
    {
     "data": {
      "text/plain": [
       "array([[4],\n",
       "       [3],\n",
       "       [3],\n",
       "       ...,\n",
       "       [1],\n",
       "       [9],\n",
       "       [5]], dtype=int32)"
      ]
     },
     "execution_count": 245,
     "metadata": {},
     "output_type": "execute_result"
    }
   ],
   "source": [
    "y_train"
   ]
  },
  {
   "cell_type": "markdown",
   "metadata": {},
   "source": [
    "In order to determine the effectiveness of the models, I baseline score will be set to be compared against. This baseline will be determined by using a simple random guess based on the proportion of each class in the testing target set."
   ]
  },
  {
   "cell_type": "code",
   "execution_count": 380,
   "metadata": {},
   "outputs": [
    {
     "name": "stdout",
     "output_type": "stream",
     "text": [
      "[[1]\n",
      " [3]\n",
      " [1]\n",
      " ...\n",
      " [3]\n",
      " [7]\n",
      " [1]] \n",
      "\n",
      "Counter({1: 2531, 4: 1314, 3: 1284, 5: 1053, 6: 865, 7: 653, 8: 561, 9: 496, 10: 386, 11: 320}) \n",
      "\n",
      "Random Guessing Classifier Accuracy: 0.14340061291345238\n"
     ]
    }
   ],
   "source": [
    "## Use a baseline \"model\" that predicts classes based on their proportional frequency\n",
    "\n",
    "# Calculate class proportions in y_test\n",
    "class_counts = np.bincount(y_test.flatten())\n",
    "class_proportions = class_counts / len(y_test)\n",
    "\n",
    "# Generate random predictions based on class proportions\n",
    "y_pred_random = []\n",
    "for _ in range(len(y_test)):\n",
    "    predicted_class = np.random.choice(len(class_proportions), p=class_proportions)\n",
    "    y_pred_random.append(predicted_class)\n",
    "\n",
    "y_pred_random = np.array(y_pred_random).reshape(-1, 1)\n",
    "print(y_pred_random, '\\n')\n",
    "frequency = Counter(y_pred_random.flatten())\n",
    "print(frequency, '\\n')\n",
    "\n",
    "# Calculate and print the accuracy\n",
    "accuracy = accuracy_score(y_test, y_pred_random)\n",
    "print(\"Random Guessing Classifier Accuracy:\", accuracy)"
   ]
  },
  {
   "cell_type": "markdown",
   "metadata": {
    "id": "iB04KAEIGI3P"
   },
   "source": [
    "Simple RNN, LSTM, and GRU architectures will be used. Also, some other hyperparemeters such as the number of epochs, and optimzer will be tuned for comparison. For the most part, parameters will stay consistent with model 1 for the best comparison. The models used will include:\n",
    "\n",
    "1. Simple RNN.\n",
    "2. BILSTM.\n",
    "3. GRU.\n",
    "4. Simple RNN using SGD optimizer instead of adam.\n",
    "5. Simple RNN using adagrad optimizer instead of adam.\n",
    "6. Simple RNN using 2 layers.\n",
    "7. Simple RNN with 10 epochs instead of 5.\n",
    "\n",
    "The score to beat is the approximate accuracy of 0.143 (14.3)%, slightly changes when cell is rerun every time) from the baseline model."
   ]
  },
  {
   "cell_type": "markdown",
   "metadata": {},
   "source": [
    "#### Models"
   ]
  },
  {
   "cell_type": "markdown",
   "metadata": {},
   "source": [
    "##### Model 1"
   ]
  },
  {
   "cell_type": "code",
   "execution_count": 251,
   "metadata": {
    "colab": {
     "background_save": true,
     "base_uri": "https://localhost:8080/"
    },
    "id": "HBDi94-iFmBS",
    "outputId": "41cfca60-fe47-494b-91cb-09951f0f76f1"
   },
   "outputs": [
    {
     "name": "stdout",
     "output_type": "stream",
     "text": [
      "Epoch 1/5\n"
     ]
    },
    {
     "name": "stderr",
     "output_type": "stream",
     "text": [
      "/opt/anaconda3/lib/python3.12/site-packages/keras/src/layers/core/embedding.py:90: UserWarning: Argument `input_length` is deprecated. Just remove it.\n",
      "  warnings.warn(\n"
     ]
    },
    {
     "name": "stdout",
     "output_type": "stream",
     "text": [
      "\u001b[1m237/237\u001b[0m \u001b[32m━━━━━━━━━━━━━━━━━━━━\u001b[0m\u001b[37m\u001b[0m \u001b[1m83s\u001b[0m 349ms/step - accuracy: 0.1917 - loss: 5.4081 - val_accuracy: 0.2720 - val_loss: 2.1108\n",
      "Epoch 2/5\n",
      "\u001b[1m237/237\u001b[0m \u001b[32m━━━━━━━━━━━━━━━━━━━━\u001b[0m\u001b[37m\u001b[0m \u001b[1m85s\u001b[0m 360ms/step - accuracy: 0.2795 - loss: 2.1050 - val_accuracy: 0.2720 - val_loss: 2.1088\n",
      "Epoch 3/5\n",
      "\u001b[1m237/237\u001b[0m \u001b[32m━━━━━━━━━━━━━━━━━━━━\u001b[0m\u001b[37m\u001b[0m \u001b[1m86s\u001b[0m 362ms/step - accuracy: 0.2828 - loss: 2.0928 - val_accuracy: 0.2720 - val_loss: 2.1076\n",
      "Epoch 4/5\n",
      "\u001b[1m237/237\u001b[0m \u001b[32m━━━━━━━━━━━━━━━━━━━━\u001b[0m\u001b[37m\u001b[0m \u001b[1m86s\u001b[0m 361ms/step - accuracy: 0.2781 - loss: 2.1030 - val_accuracy: 0.2720 - val_loss: 2.1049\n",
      "Epoch 5/5\n",
      "\u001b[1m237/237\u001b[0m \u001b[32m━━━━━━━━━━━━━━━━━━━━\u001b[0m\u001b[37m\u001b[0m \u001b[1m86s\u001b[0m 362ms/step - accuracy: 0.2764 - loss: 2.0987 - val_accuracy: 0.2720 - val_loss: 2.1053\n",
      "Elapsed time: 7.09 minutes\n",
      "Results:\n",
      "\u001b[1m296/296\u001b[0m \u001b[32m━━━━━━━━━━━━━━━━━━━━\u001b[0m\u001b[37m\u001b[0m \u001b[1m9s\u001b[0m 29ms/step - accuracy: 0.2776 - loss: 2.0998\n",
      "Validation Loss: 2.1044\n",
      "Validation Accuracy: 0.2752\n"
     ]
    }
   ],
   "source": [
    "## Build the Simple RNN model\n",
    "\n",
    "vocab_size = len(tokenizer.word_index) + 1 # Size of vocabulary\n",
    "embedding_dim = 50 # Dimension of word embeddings\n",
    "max_length = X_train.shape[1] # Maximum length of input sequences\n",
    "\n",
    "model = keras.Sequential([\n",
    "    layers.Embedding(vocab_size, embedding_dim, input_length = max_length),\n",
    "    layers.SimpleRNN(100),\n",
    "    layers.Dense(vocab_size, activation = 'softmax')\n",
    "])\n",
    "\n",
    "model.compile(loss = 'sparse_categorical_crossentropy', optimizer = 'adam', metrics = ['accuracy'])\n",
    "\n",
    "start_time = time.time()\n",
    "history = model.fit(X_train,\n",
    "                    y_train,\n",
    "                    epochs = 5,\n",
    "                    validation_split = 0.2,\n",
    "                    batch_size = 128\n",
    "                    )\n",
    "end_time = time.time()\n",
    "elapsed_time_minutes = (end_time - start_time) / 60\n",
    "print(f\"Elapsed time: {elapsed_time_minutes:.2f} minutes\")\n",
    "\n",
    "print(\"Results:\")\n",
    "loss, accuracy = model.evaluate(X_test, y_test)\n",
    "print(f\"Validation Loss: {loss:.4f}\")\n",
    "print(f\"Validation Accuracy: {accuracy:.4f}\")"
   ]
  },
  {
   "cell_type": "code",
   "execution_count": 253,
   "metadata": {},
   "outputs": [
    {
     "data": {
      "text/html": [
       "<pre style=\"white-space:pre;overflow-x:auto;line-height:normal;font-family:Menlo,'DejaVu Sans Mono',consolas,'Courier New',monospace\"><span style=\"font-weight: bold\">Model: \"sequential_7\"</span>\n",
       "</pre>\n"
      ],
      "text/plain": [
       "\u001b[1mModel: \"sequential_7\"\u001b[0m\n"
      ]
     },
     "metadata": {},
     "output_type": "display_data"
    },
    {
     "data": {
      "text/html": [
       "<pre style=\"white-space:pre;overflow-x:auto;line-height:normal;font-family:Menlo,'DejaVu Sans Mono',consolas,'Courier New',monospace\">┏━━━━━━━━━━━━━━━━━━━━━━━━━━━━━━━━━┳━━━━━━━━━━━━━━━━━━━━━━━━┳━━━━━━━━━━━━━━━┓\n",
       "┃<span style=\"font-weight: bold\"> Layer (type)                    </span>┃<span style=\"font-weight: bold\"> Output Shape           </span>┃<span style=\"font-weight: bold\">       Param # </span>┃\n",
       "┡━━━━━━━━━━━━━━━━━━━━━━━━━━━━━━━━━╇━━━━━━━━━━━━━━━━━━━━━━━━╇━━━━━━━━━━━━━━━┩\n",
       "│ embedding_7 (<span style=\"color: #0087ff; text-decoration-color: #0087ff\">Embedding</span>)         │ (<span style=\"color: #00d7ff; text-decoration-color: #00d7ff\">None</span>, <span style=\"color: #00af00; text-decoration-color: #00af00\">1147</span>, <span style=\"color: #00af00; text-decoration-color: #00af00\">50</span>)       │     <span style=\"color: #00af00; text-decoration-color: #00af00\">4,337,950</span> │\n",
       "├─────────────────────────────────┼────────────────────────┼───────────────┤\n",
       "│ simple_rnn_3 (<span style=\"color: #0087ff; text-decoration-color: #0087ff\">SimpleRNN</span>)        │ (<span style=\"color: #00d7ff; text-decoration-color: #00d7ff\">None</span>, <span style=\"color: #00af00; text-decoration-color: #00af00\">100</span>)            │        <span style=\"color: #00af00; text-decoration-color: #00af00\">15,100</span> │\n",
       "├─────────────────────────────────┼────────────────────────┼───────────────┤\n",
       "│ dense_7 (<span style=\"color: #0087ff; text-decoration-color: #0087ff\">Dense</span>)                 │ (<span style=\"color: #00d7ff; text-decoration-color: #00d7ff\">None</span>, <span style=\"color: #00af00; text-decoration-color: #00af00\">86759</span>)          │     <span style=\"color: #00af00; text-decoration-color: #00af00\">8,762,659</span> │\n",
       "└─────────────────────────────────┴────────────────────────┴───────────────┘\n",
       "</pre>\n"
      ],
      "text/plain": [
       "┏━━━━━━━━━━━━━━━━━━━━━━━━━━━━━━━━━┳━━━━━━━━━━━━━━━━━━━━━━━━┳━━━━━━━━━━━━━━━┓\n",
       "┃\u001b[1m \u001b[0m\u001b[1mLayer (type)                   \u001b[0m\u001b[1m \u001b[0m┃\u001b[1m \u001b[0m\u001b[1mOutput Shape          \u001b[0m\u001b[1m \u001b[0m┃\u001b[1m \u001b[0m\u001b[1m      Param #\u001b[0m\u001b[1m \u001b[0m┃\n",
       "┡━━━━━━━━━━━━━━━━━━━━━━━━━━━━━━━━━╇━━━━━━━━━━━━━━━━━━━━━━━━╇━━━━━━━━━━━━━━━┩\n",
       "│ embedding_7 (\u001b[38;5;33mEmbedding\u001b[0m)         │ (\u001b[38;5;45mNone\u001b[0m, \u001b[38;5;34m1147\u001b[0m, \u001b[38;5;34m50\u001b[0m)       │     \u001b[38;5;34m4,337,950\u001b[0m │\n",
       "├─────────────────────────────────┼────────────────────────┼───────────────┤\n",
       "│ simple_rnn_3 (\u001b[38;5;33mSimpleRNN\u001b[0m)        │ (\u001b[38;5;45mNone\u001b[0m, \u001b[38;5;34m100\u001b[0m)            │        \u001b[38;5;34m15,100\u001b[0m │\n",
       "├─────────────────────────────────┼────────────────────────┼───────────────┤\n",
       "│ dense_7 (\u001b[38;5;33mDense\u001b[0m)                 │ (\u001b[38;5;45mNone\u001b[0m, \u001b[38;5;34m86759\u001b[0m)          │     \u001b[38;5;34m8,762,659\u001b[0m │\n",
       "└─────────────────────────────────┴────────────────────────┴───────────────┘\n"
      ]
     },
     "metadata": {},
     "output_type": "display_data"
    },
    {
     "data": {
      "text/html": [
       "<pre style=\"white-space:pre;overflow-x:auto;line-height:normal;font-family:Menlo,'DejaVu Sans Mono',consolas,'Courier New',monospace\"><span style=\"font-weight: bold\"> Total params: </span><span style=\"color: #00af00; text-decoration-color: #00af00\">39,347,129</span> (150.10 MB)\n",
       "</pre>\n"
      ],
      "text/plain": [
       "\u001b[1m Total params: \u001b[0m\u001b[38;5;34m39,347,129\u001b[0m (150.10 MB)\n"
      ]
     },
     "metadata": {},
     "output_type": "display_data"
    },
    {
     "data": {
      "text/html": [
       "<pre style=\"white-space:pre;overflow-x:auto;line-height:normal;font-family:Menlo,'DejaVu Sans Mono',consolas,'Courier New',monospace\"><span style=\"font-weight: bold\"> Trainable params: </span><span style=\"color: #00af00; text-decoration-color: #00af00\">13,115,709</span> (50.03 MB)\n",
       "</pre>\n"
      ],
      "text/plain": [
       "\u001b[1m Trainable params: \u001b[0m\u001b[38;5;34m13,115,709\u001b[0m (50.03 MB)\n"
      ]
     },
     "metadata": {},
     "output_type": "display_data"
    },
    {
     "data": {
      "text/html": [
       "<pre style=\"white-space:pre;overflow-x:auto;line-height:normal;font-family:Menlo,'DejaVu Sans Mono',consolas,'Courier New',monospace\"><span style=\"font-weight: bold\"> Non-trainable params: </span><span style=\"color: #00af00; text-decoration-color: #00af00\">0</span> (0.00 B)\n",
       "</pre>\n"
      ],
      "text/plain": [
       "\u001b[1m Non-trainable params: \u001b[0m\u001b[38;5;34m0\u001b[0m (0.00 B)\n"
      ]
     },
     "metadata": {},
     "output_type": "display_data"
    },
    {
     "data": {
      "text/html": [
       "<pre style=\"white-space:pre;overflow-x:auto;line-height:normal;font-family:Menlo,'DejaVu Sans Mono',consolas,'Courier New',monospace\"><span style=\"font-weight: bold\"> Optimizer params: </span><span style=\"color: #00af00; text-decoration-color: #00af00\">26,231,420</span> (100.06 MB)\n",
       "</pre>\n"
      ],
      "text/plain": [
       "\u001b[1m Optimizer params: \u001b[0m\u001b[38;5;34m26,231,420\u001b[0m (100.06 MB)\n"
      ]
     },
     "metadata": {},
     "output_type": "display_data"
    }
   ],
   "source": [
    "model.summary()"
   ]
  },
  {
   "cell_type": "code",
   "execution_count": 255,
   "metadata": {},
   "outputs": [
    {
     "data": {
      "text/plain": [
       "<matplotlib.legend.Legend at 0x2dceaf590>"
      ]
     },
     "execution_count": 255,
     "metadata": {},
     "output_type": "execute_result"
    },
    {
     "data": {
      "image/png": "[encoded data removed]",
      "text/plain": [
       "<Figure size 1000x500 with 2 Axes>"
      ]
     },
     "metadata": {},
     "output_type": "display_data"
    }
   ],
   "source": [
    "## Visualize the model performance over the epochs and generate results on the test data.\n",
    "\n",
    "plt.figure(figsize=(10, 5))\n",
    "\n",
    "# Plot training & validation accuracy values\n",
    "plt.subplot(1, 2, 1)\n",
    "plt.plot(history.history['accuracy'])\n",
    "plt.plot(history.history['val_accuracy'])\n",
    "plt.title('Model Accuracy')\n",
    "plt.ylabel('Accuracy')\n",
    "plt.xlabel('Epoch')\n",
    "plt.legend(['Train', 'Validation'], loc='upper left')\n",
    "\n",
    "# Plot training & validation loss values\n",
    "plt.subplot(1, 2, 2)\n",
    "plt.plot(history.history['loss'])\n",
    "plt.plot(history.history['val_loss'])\n",
    "plt.title('Model Loss')\n",
    "plt.ylabel('Loss')\n",
    "plt.xlabel('Epoch')\n",
    "plt.legend(['Train', 'Validation'], loc='upper left')"
   ]
  },
  {
   "cell_type": "code",
   "execution_count": 265,
   "metadata": {},
   "outputs": [
    {
     "name": "stdout",
     "output_type": "stream",
     "text": [
      "Classifier Accuracy: 0.27517700517806193\n"
     ]
    }
   ],
   "source": [
    "## Calculate accuracy\n",
    "\n",
    "y_pred = model.predict(X_test)\n",
    "accuracy = accuracy_score(y_test, y_pred.argmax(axis=1))\n",
    "print(\"Classifier Accuracy:\", accuracy)"
   ]
  },
  {
   "cell_type": "markdown",
   "metadata": {},
   "source": [
    "##### Model 2"
   ]
  },
  {
   "cell_type": "code",
   "execution_count": 269,
   "metadata": {
    "id": "-xDPjnkkupBe"
   },
   "outputs": [
    {
     "name": "stdout",
     "output_type": "stream",
     "text": [
      "Epoch 1/5\n"
     ]
    },
    {
     "name": "stderr",
     "output_type": "stream",
     "text": [
      "/opt/anaconda3/lib/python3.12/site-packages/keras/src/layers/core/embedding.py:90: UserWarning: Argument `input_length` is deprecated. Just remove it.\n",
      "  warnings.warn(\n"
     ]
    },
    {
     "name": "stdout",
     "output_type": "stream",
     "text": [
      "\u001b[1m237/237\u001b[0m \u001b[32m━━━━━━━━━━━━━━━━━━━━\u001b[0m\u001b[37m\u001b[0m \u001b[1m275s\u001b[0m 1s/step - accuracy: 0.2802 - loss: 4.8634 - val_accuracy: 0.2720 - val_loss: 2.1176\n",
      "Epoch 2/5\n",
      "\u001b[1m237/237\u001b[0m \u001b[32m━━━━━━━━━━━━━━━━━━━━\u001b[0m\u001b[37m\u001b[0m \u001b[1m308s\u001b[0m 1s/step - accuracy: 0.2831 - loss: 2.0972 - val_accuracy: 0.2720 - val_loss: 2.1090\n",
      "Epoch 3/5\n",
      "\u001b[1m237/237\u001b[0m \u001b[32m━━━━━━━━━━━━━━━━━━━━\u001b[0m\u001b[37m\u001b[0m \u001b[1m309s\u001b[0m 1s/step - accuracy: 0.2810 - loss: 2.1002 - val_accuracy: 0.2720 - val_loss: 2.1104\n",
      "Epoch 4/5\n",
      "\u001b[1m237/237\u001b[0m \u001b[32m━━━━━━━━━━━━━━━━━━━━\u001b[0m\u001b[37m\u001b[0m \u001b[1m307s\u001b[0m 1s/step - accuracy: 0.2820 - loss: 2.0982 - val_accuracy: 0.2720 - val_loss: 2.1177\n",
      "Epoch 5/5\n",
      "\u001b[1m237/237\u001b[0m \u001b[32m━━━━━━━━━━━━━━━━━━━━\u001b[0m\u001b[37m\u001b[0m \u001b[1m310s\u001b[0m 1s/step - accuracy: 0.2788 - loss: 2.0939 - val_accuracy: 0.2720 - val_loss: 2.1110\n",
      "Elapsed time: 25.15 minutes\n",
      "Bidirectional LSTM Results:\n",
      "\u001b[1m296/296\u001b[0m \u001b[32m━━━━━━━━━━━━━━━━━━━━\u001b[0m\u001b[37m\u001b[0m \u001b[1m27s\u001b[0m 92ms/step - accuracy: 0.2776 - loss: 2.1060\n",
      "Validation Loss: 2.1098\n",
      "Validation Accuracy: 0.2752\n"
     ]
    }
   ],
   "source": [
    "## Build the Bidirectional LSTM model\n",
    "\n",
    "vocab_size = len(tokenizer.word_index) + 1 # Size of vocabulary\n",
    "embedding_dim = 50 # Dimension of word embeddings\n",
    "max_length = X_train.shape[1] # Maximum length of input sequences\n",
    "\n",
    "model_bilstm = keras.Sequential([\n",
    "    layers.Embedding(vocab_size, embedding_dim, input_length = max_length),\n",
    "    Bidirectional(LSTM(100)),\n",
    "    layers.Dense(vocab_size, activation = 'softmax')\n",
    "])\n",
    "\n",
    "model_bilstm.compile(loss = 'sparse_categorical_crossentropy', optimizer = 'adam', metrics =[ 'accuracy'])\n",
    "\n",
    "\n",
    "start_time = time.time()\n",
    "history_bilstm = model_bilstm.fit(X_train,\n",
    "                                 y_train,\n",
    "                                 epochs = 5,\n",
    "                                 validation_split = 0.2,\n",
    "                                 batch_size = 128\n",
    "                                 )\n",
    "end_time = time.time()\n",
    "elapsed_time_minutes = (end_time - start_time) / 60\n",
    "print(f\"Elapsed time: {elapsed_time_minutes:.2f} minutes\")\n",
    "\n",
    "print(\"Bidirectional LSTM Results:\")\n",
    "loss_bilstm, accuracy_bilstm = model_bilstm.evaluate(X_test, y_test)\n",
    "print(f\"Validation Loss: {loss_bilstm:.4f}\")\n",
    "print(f\"Validation Accuracy: {accuracy_bilstm:.4f}\")"
   ]
  },
  {
   "cell_type": "code",
   "execution_count": 270,
   "metadata": {},
   "outputs": [
    {
     "data": {
      "text/html": [
       "<pre style=\"white-space:pre;overflow-x:auto;line-height:normal;font-family:Menlo,'DejaVu Sans Mono',consolas,'Courier New',monospace\"><span style=\"font-weight: bold\">Model: \"sequential_7\"</span>\n",
       "</pre>\n"
      ],
      "text/plain": [
       "\u001b[1mModel: \"sequential_7\"\u001b[0m\n"
      ]
     },
     "metadata": {},
     "output_type": "display_data"
    },
    {
     "data": {
      "text/html": [
       "<pre style=\"white-space:pre;overflow-x:auto;line-height:normal;font-family:Menlo,'DejaVu Sans Mono',consolas,'Courier New',monospace\">┏━━━━━━━━━━━━━━━━━━━━━━━━━━━━━━━━━┳━━━━━━━━━━━━━━━━━━━━━━━━┳━━━━━━━━━━━━━━━┓\n",
       "┃<span style=\"font-weight: bold\"> Layer (type)                    </span>┃<span style=\"font-weight: bold\"> Output Shape           </span>┃<span style=\"font-weight: bold\">       Param # </span>┃\n",
       "┡━━━━━━━━━━━━━━━━━━━━━━━━━━━━━━━━━╇━━━━━━━━━━━━━━━━━━━━━━━━╇━━━━━━━━━━━━━━━┩\n",
       "│ embedding_7 (<span style=\"color: #0087ff; text-decoration-color: #0087ff\">Embedding</span>)         │ (<span style=\"color: #00d7ff; text-decoration-color: #00d7ff\">None</span>, <span style=\"color: #00af00; text-decoration-color: #00af00\">1147</span>, <span style=\"color: #00af00; text-decoration-color: #00af00\">50</span>)       │     <span style=\"color: #00af00; text-decoration-color: #00af00\">4,337,950</span> │\n",
       "├─────────────────────────────────┼────────────────────────┼───────────────┤\n",
       "│ simple_rnn_3 (<span style=\"color: #0087ff; text-decoration-color: #0087ff\">SimpleRNN</span>)        │ (<span style=\"color: #00d7ff; text-decoration-color: #00d7ff\">None</span>, <span style=\"color: #00af00; text-decoration-color: #00af00\">100</span>)            │        <span style=\"color: #00af00; text-decoration-color: #00af00\">15,100</span> │\n",
       "├─────────────────────────────────┼────────────────────────┼───────────────┤\n",
       "│ dense_7 (<span style=\"color: #0087ff; text-decoration-color: #0087ff\">Dense</span>)                 │ (<span style=\"color: #00d7ff; text-decoration-color: #00d7ff\">None</span>, <span style=\"color: #00af00; text-decoration-color: #00af00\">86759</span>)          │     <span style=\"color: #00af00; text-decoration-color: #00af00\">8,762,659</span> │\n",
       "└─────────────────────────────────┴────────────────────────┴───────────────┘\n",
       "</pre>\n"
      ],
      "text/plain": [
       "┏━━━━━━━━━━━━━━━━━━━━━━━━━━━━━━━━━┳━━━━━━━━━━━━━━━━━━━━━━━━┳━━━━━━━━━━━━━━━┓\n",
       "┃\u001b[1m \u001b[0m\u001b[1mLayer (type)                   \u001b[0m\u001b[1m \u001b[0m┃\u001b[1m \u001b[0m\u001b[1mOutput Shape          \u001b[0m\u001b[1m \u001b[0m┃\u001b[1m \u001b[0m\u001b[1m      Param #\u001b[0m\u001b[1m \u001b[0m┃\n",
       "┡━━━━━━━━━━━━━━━━━━━━━━━━━━━━━━━━━╇━━━━━━━━━━━━━━━━━━━━━━━━╇━━━━━━━━━━━━━━━┩\n",
       "│ embedding_7 (\u001b[38;5;33mEmbedding\u001b[0m)         │ (\u001b[38;5;45mNone\u001b[0m, \u001b[38;5;34m1147\u001b[0m, \u001b[38;5;34m50\u001b[0m)       │     \u001b[38;5;34m4,337,950\u001b[0m │\n",
       "├─────────────────────────────────┼────────────────────────┼───────────────┤\n",
       "│ simple_rnn_3 (\u001b[38;5;33mSimpleRNN\u001b[0m)        │ (\u001b[38;5;45mNone\u001b[0m, \u001b[38;5;34m100\u001b[0m)            │        \u001b[38;5;34m15,100\u001b[0m │\n",
       "├─────────────────────────────────┼────────────────────────┼───────────────┤\n",
       "│ dense_7 (\u001b[38;5;33mDense\u001b[0m)                 │ (\u001b[38;5;45mNone\u001b[0m, \u001b[38;5;34m86759\u001b[0m)          │     \u001b[38;5;34m8,762,659\u001b[0m │\n",
       "└─────────────────────────────────┴────────────────────────┴───────────────┘\n"
      ]
     },
     "metadata": {},
     "output_type": "display_data"
    },
    {
     "data": {
      "text/html": [
       "<pre style=\"white-space:pre;overflow-x:auto;line-height:normal;font-family:Menlo,'DejaVu Sans Mono',consolas,'Courier New',monospace\"><span style=\"font-weight: bold\"> Total params: </span><span style=\"color: #00af00; text-decoration-color: #00af00\">39,347,129</span> (150.10 MB)\n",
       "</pre>\n"
      ],
      "text/plain": [
       "\u001b[1m Total params: \u001b[0m\u001b[38;5;34m39,347,129\u001b[0m (150.10 MB)\n"
      ]
     },
     "metadata": {},
     "output_type": "display_data"
    },
    {
     "data": {
      "text/html": [
       "<pre style=\"white-space:pre;overflow-x:auto;line-height:normal;font-family:Menlo,'DejaVu Sans Mono',consolas,'Courier New',monospace\"><span style=\"font-weight: bold\"> Trainable params: </span><span style=\"color: #00af00; text-decoration-color: #00af00\">13,115,709</span> (50.03 MB)\n",
       "</pre>\n"
      ],
      "text/plain": [
       "\u001b[1m Trainable params: \u001b[0m\u001b[38;5;34m13,115,709\u001b[0m (50.03 MB)\n"
      ]
     },
     "metadata": {},
     "output_type": "display_data"
    },
    {
     "data": {
      "text/html": [
       "<pre style=\"white-space:pre;overflow-x:auto;line-height:normal;font-family:Menlo,'DejaVu Sans Mono',consolas,'Courier New',monospace\"><span style=\"font-weight: bold\"> Non-trainable params: </span><span style=\"color: #00af00; text-decoration-color: #00af00\">0</span> (0.00 B)\n",
       "</pre>\n"
      ],
      "text/plain": [
       "\u001b[1m Non-trainable params: \u001b[0m\u001b[38;5;34m0\u001b[0m (0.00 B)\n"
      ]
     },
     "metadata": {},
     "output_type": "display_data"
    },
    {
     "data": {
      "text/html": [
       "<pre style=\"white-space:pre;overflow-x:auto;line-height:normal;font-family:Menlo,'DejaVu Sans Mono',consolas,'Courier New',monospace\"><span style=\"font-weight: bold\"> Optimizer params: </span><span style=\"color: #00af00; text-decoration-color: #00af00\">26,231,420</span> (100.06 MB)\n",
       "</pre>\n"
      ],
      "text/plain": [
       "\u001b[1m Optimizer params: \u001b[0m\u001b[38;5;34m26,231,420\u001b[0m (100.06 MB)\n"
      ]
     },
     "metadata": {},
     "output_type": "display_data"
    }
   ],
   "source": [
    "model.summary()"
   ]
  },
  {
   "cell_type": "code",
   "execution_count": 271,
   "metadata": {},
   "outputs": [
    {
     "data": {
      "text/plain": [
       "<matplotlib.legend.Legend at 0x2d0a24f20>"
      ]
     },
     "execution_count": 271,
     "metadata": {},
     "output_type": "execute_result"
    },
    {
     "data": {
      "image/png": "[encoded data removed]",
      "text/plain": [
       "<Figure size 1000x500 with 2 Axes>"
      ]
     },
     "metadata": {},
     "output_type": "display_data"
    }
   ],
   "source": [
    "## Visualize the model performance over the epochs and generate results on the test data.\n",
    "\n",
    "plt.figure(figsize=(10, 5))\n",
    "\n",
    "# Plot training & validation accuracy values\n",
    "plt.subplot(1, 2, 1)\n",
    "plt.plot(history.history['accuracy'])\n",
    "plt.plot(history.history['val_accuracy'])\n",
    "plt.title('Model Accuracy')\n",
    "plt.ylabel('Accuracy')\n",
    "plt.xlabel('Epoch')\n",
    "plt.legend(['Train', 'Validation'], loc='upper left')\n",
    "\n",
    "# Plot training & validation loss values\n",
    "plt.subplot(1, 2, 2)\n",
    "plt.plot(history.history['loss'])\n",
    "plt.plot(history.history['val_loss'])\n",
    "plt.title('Model Loss')\n",
    "plt.ylabel('Loss')\n",
    "plt.xlabel('Epoch')\n",
    "plt.legend(['Train', 'Validation'], loc='upper left')"
   ]
  },
  {
   "cell_type": "code",
   "execution_count": 283,
   "metadata": {},
   "outputs": [
    {
     "name": "stdout",
     "output_type": "stream",
     "text": [
      "\u001b[1m296/296\u001b[0m \u001b[32m━━━━━━━━━━━━━━━━━━━━\u001b[0m\u001b[37m\u001b[0m \u001b[1m26s\u001b[0m 89ms/step\n",
      "Classifier Accuracy: 0.27517700517806193\n"
     ]
    }
   ],
   "source": [
    "## Calculate accuracy\n",
    "\n",
    "y_pred = model_bilstm.predict(X_test)\n",
    "accuracy = accuracy_score(y_test, y_pred.argmax(axis=1))\n",
    "print(\"Classifier Accuracy:\", accuracy)"
   ]
  },
  {
   "cell_type": "markdown",
   "metadata": {},
   "source": [
    "##### Model 3"
   ]
  },
  {
   "cell_type": "code",
   "execution_count": 348,
   "metadata": {},
   "outputs": [
    {
     "name": "stdout",
     "output_type": "stream",
     "text": [
      "Epoch 1/5\n"
     ]
    },
    {
     "name": "stderr",
     "output_type": "stream",
     "text": [
      "/opt/anaconda3/lib/python3.12/site-packages/keras/src/layers/core/embedding.py:90: UserWarning: Argument `input_length` is deprecated. Just remove it.\n",
      "  warnings.warn(\n"
     ]
    },
    {
     "name": "stdout",
     "output_type": "stream",
     "text": [
      "\u001b[1m237/237\u001b[0m \u001b[32m━━━━━━━━━━━━━━━━━━━━\u001b[0m\u001b[37m\u001b[0m \u001b[1m223s\u001b[0m 938ms/step - accuracy: 0.2688 - loss: 5.9429 - val_accuracy: 0.2720 - val_loss: 2.1137\n",
      "Epoch 2/5\n",
      "\u001b[1m237/237\u001b[0m \u001b[32m━━━━━━━━━━━━━━━━━━━━\u001b[0m\u001b[37m\u001b[0m \u001b[1m217s\u001b[0m 918ms/step - accuracy: 0.2810 - loss: 2.1038 - val_accuracy: 0.2720 - val_loss: 2.1059\n",
      "Epoch 3/5\n",
      "\u001b[1m237/237\u001b[0m \u001b[32m━━━━━━━━━━━━━━━━━━━━\u001b[0m\u001b[37m\u001b[0m \u001b[1m218s\u001b[0m 918ms/step - accuracy: 0.2786 - loss: 2.1019 - val_accuracy: 0.2720 - val_loss: 2.1030\n",
      "Epoch 4/5\n",
      "\u001b[1m237/237\u001b[0m \u001b[32m━━━━━━━━━━━━━━━━━━━━\u001b[0m\u001b[37m\u001b[0m \u001b[1m215s\u001b[0m 907ms/step - accuracy: 0.2807 - loss: 2.0980 - val_accuracy: 0.2720 - val_loss: 2.1078\n",
      "Epoch 5/5\n",
      "\u001b[1m237/237\u001b[0m \u001b[32m━━━━━━━━━━━━━━━━━━━━\u001b[0m\u001b[37m\u001b[0m \u001b[1m216s\u001b[0m 910ms/step - accuracy: 0.2779 - loss: 2.0973 - val_accuracy: 0.2720 - val_loss: 2.1065\n",
      "Elapsed time: 18.14 minutes\n",
      "GRU Results:\n",
      "\u001b[1m296/296\u001b[0m \u001b[32m━━━━━━━━━━━━━━━━━━━━\u001b[0m\u001b[37m\u001b[0m \u001b[1m20s\u001b[0m 69ms/step - accuracy: 0.2776 - loss: 2.0997\n",
      "Validation Loss: 2.1052\n",
      "Validation Accuracy: 0.2752\n"
     ]
    }
   ],
   "source": [
    "## Build the GRU model\n",
    "\n",
    "vocab_size = len(tokenizer.word_index) + 1 # Size of vocabulary\n",
    "embedding_dim = 50 # Dimension of word embeddings\n",
    "max_length = X_train.shape[1] # Maximum length of input sequences\n",
    "\n",
    "model_gru = keras.Sequential([\n",
    "    layers.Embedding(vocab_size, embedding_dim, input_length = max_length),\n",
    "    layers.GRU(100),\n",
    "    layers.Dense(vocab_size, activation = 'softmax')\n",
    "])\n",
    "\n",
    "model_gru.compile(loss = 'sparse_categorical_crossentropy', optimizer = 'adam', metrics = ['accuracy'])\n",
    "\n",
    "\n",
    "start_time = time.time()\n",
    "history_gru = model_gru.fit(X_train,\n",
    "                                 y_train,\n",
    "                                 epochs = 5,\n",
    "                                 validation_split = 0.2,\n",
    "                                 batch_size = 128\n",
    "                                 )\n",
    "end_time = time.time()\n",
    "elapsed_time_minutes = (end_time - start_time) / 60\n",
    "print(f\"Elapsed time: {elapsed_time_minutes:.2f} minutes\")\n",
    "\n",
    "print(\"GRU Results:\")\n",
    "loss_gru, accuracy_gru = model_gru.evaluate(X_test, y_test)\n",
    "print(f\"Validation Loss: {loss_gru:.4f}\")\n",
    "print(f\"Validation Accuracy: {accuracy_gru:.4f}\")"
   ]
  },
  {
   "cell_type": "code",
   "execution_count": 349,
   "metadata": {},
   "outputs": [
    {
     "data": {
      "text/html": [
       "<pre style=\"white-space:pre;overflow-x:auto;line-height:normal;font-family:Menlo,'DejaVu Sans Mono',consolas,'Courier New',monospace\"><span style=\"font-weight: bold\">Model: \"sequential_20\"</span>\n",
       "</pre>\n"
      ],
      "text/plain": [
       "\u001b[1mModel: \"sequential_20\"\u001b[0m\n"
      ]
     },
     "metadata": {},
     "output_type": "display_data"
    },
    {
     "data": {
      "text/html": [
       "<pre style=\"white-space:pre;overflow-x:auto;line-height:normal;font-family:Menlo,'DejaVu Sans Mono',consolas,'Courier New',monospace\">┏━━━━━━━━━━━━━━━━━━━━━━━━━━━━━━━━━┳━━━━━━━━━━━━━━━━━━━━━━━━┳━━━━━━━━━━━━━━━┓\n",
       "┃<span style=\"font-weight: bold\"> Layer (type)                    </span>┃<span style=\"font-weight: bold\"> Output Shape           </span>┃<span style=\"font-weight: bold\">       Param # </span>┃\n",
       "┡━━━━━━━━━━━━━━━━━━━━━━━━━━━━━━━━━╇━━━━━━━━━━━━━━━━━━━━━━━━╇━━━━━━━━━━━━━━━┩\n",
       "│ embedding_20 (<span style=\"color: #0087ff; text-decoration-color: #0087ff\">Embedding</span>)        │ (<span style=\"color: #00d7ff; text-decoration-color: #00d7ff\">None</span>, <span style=\"color: #00af00; text-decoration-color: #00af00\">1147</span>, <span style=\"color: #00af00; text-decoration-color: #00af00\">50</span>)       │     <span style=\"color: #00af00; text-decoration-color: #00af00\">4,337,950</span> │\n",
       "├─────────────────────────────────┼────────────────────────┼───────────────┤\n",
       "│ simple_rnn_17 (<span style=\"color: #0087ff; text-decoration-color: #0087ff\">SimpleRNN</span>)       │ (<span style=\"color: #00d7ff; text-decoration-color: #00d7ff\">None</span>, <span style=\"color: #00af00; text-decoration-color: #00af00\">100</span>)            │        <span style=\"color: #00af00; text-decoration-color: #00af00\">15,100</span> │\n",
       "├─────────────────────────────────┼────────────────────────┼───────────────┤\n",
       "│ dense_20 (<span style=\"color: #0087ff; text-decoration-color: #0087ff\">Dense</span>)                │ (<span style=\"color: #00d7ff; text-decoration-color: #00d7ff\">None</span>, <span style=\"color: #00af00; text-decoration-color: #00af00\">86759</span>)          │     <span style=\"color: #00af00; text-decoration-color: #00af00\">8,762,659</span> │\n",
       "└─────────────────────────────────┴────────────────────────┴───────────────┘\n",
       "</pre>\n"
      ],
      "text/plain": [
       "┏━━━━━━━━━━━━━━━━━━━━━━━━━━━━━━━━━┳━━━━━━━━━━━━━━━━━━━━━━━━┳━━━━━━━━━━━━━━━┓\n",
       "┃\u001b[1m \u001b[0m\u001b[1mLayer (type)                   \u001b[0m\u001b[1m \u001b[0m┃\u001b[1m \u001b[0m\u001b[1mOutput Shape          \u001b[0m\u001b[1m \u001b[0m┃\u001b[1m \u001b[0m\u001b[1m      Param #\u001b[0m\u001b[1m \u001b[0m┃\n",
       "┡━━━━━━━━━━━━━━━━━━━━━━━━━━━━━━━━━╇━━━━━━━━━━━━━━━━━━━━━━━━╇━━━━━━━━━━━━━━━┩\n",
       "│ embedding_20 (\u001b[38;5;33mEmbedding\u001b[0m)        │ (\u001b[38;5;45mNone\u001b[0m, \u001b[38;5;34m1147\u001b[0m, \u001b[38;5;34m50\u001b[0m)       │     \u001b[38;5;34m4,337,950\u001b[0m │\n",
       "├─────────────────────────────────┼────────────────────────┼───────────────┤\n",
       "│ simple_rnn_17 (\u001b[38;5;33mSimpleRNN\u001b[0m)       │ (\u001b[38;5;45mNone\u001b[0m, \u001b[38;5;34m100\u001b[0m)            │        \u001b[38;5;34m15,100\u001b[0m │\n",
       "├─────────────────────────────────┼────────────────────────┼───────────────┤\n",
       "│ dense_20 (\u001b[38;5;33mDense\u001b[0m)                │ (\u001b[38;5;45mNone\u001b[0m, \u001b[38;5;34m86759\u001b[0m)          │     \u001b[38;5;34m8,762,659\u001b[0m │\n",
       "└─────────────────────────────────┴────────────────────────┴───────────────┘\n"
      ]
     },
     "metadata": {},
     "output_type": "display_data"
    },
    {
     "data": {
      "text/html": [
       "<pre style=\"white-space:pre;overflow-x:auto;line-height:normal;font-family:Menlo,'DejaVu Sans Mono',consolas,'Courier New',monospace\"><span style=\"font-weight: bold\"> Total params: </span><span style=\"color: #00af00; text-decoration-color: #00af00\">39,347,129</span> (150.10 MB)\n",
       "</pre>\n"
      ],
      "text/plain": [
       "\u001b[1m Total params: \u001b[0m\u001b[38;5;34m39,347,129\u001b[0m (150.10 MB)\n"
      ]
     },
     "metadata": {},
     "output_type": "display_data"
    },
    {
     "data": {
      "text/html": [
       "<pre style=\"white-space:pre;overflow-x:auto;line-height:normal;font-family:Menlo,'DejaVu Sans Mono',consolas,'Courier New',monospace\"><span style=\"font-weight: bold\"> Trainable params: </span><span style=\"color: #00af00; text-decoration-color: #00af00\">13,115,709</span> (50.03 MB)\n",
       "</pre>\n"
      ],
      "text/plain": [
       "\u001b[1m Trainable params: \u001b[0m\u001b[38;5;34m13,115,709\u001b[0m (50.03 MB)\n"
      ]
     },
     "metadata": {},
     "output_type": "display_data"
    },
    {
     "data": {
      "text/html": [
       "<pre style=\"white-space:pre;overflow-x:auto;line-height:normal;font-family:Menlo,'DejaVu Sans Mono',consolas,'Courier New',monospace\"><span style=\"font-weight: bold\"> Non-trainable params: </span><span style=\"color: #00af00; text-decoration-color: #00af00\">0</span> (0.00 B)\n",
       "</pre>\n"
      ],
      "text/plain": [
       "\u001b[1m Non-trainable params: \u001b[0m\u001b[38;5;34m0\u001b[0m (0.00 B)\n"
      ]
     },
     "metadata": {},
     "output_type": "display_data"
    },
    {
     "data": {
      "text/html": [
       "<pre style=\"white-space:pre;overflow-x:auto;line-height:normal;font-family:Menlo,'DejaVu Sans Mono',consolas,'Courier New',monospace\"><span style=\"font-weight: bold\"> Optimizer params: </span><span style=\"color: #00af00; text-decoration-color: #00af00\">26,231,420</span> (100.06 MB)\n",
       "</pre>\n"
      ],
      "text/plain": [
       "\u001b[1m Optimizer params: \u001b[0m\u001b[38;5;34m26,231,420\u001b[0m (100.06 MB)\n"
      ]
     },
     "metadata": {},
     "output_type": "display_data"
    }
   ],
   "source": [
    "model.summary()"
   ]
  },
  {
   "cell_type": "code",
   "execution_count": 350,
   "metadata": {},
   "outputs": [
    {
     "data": {
      "text/plain": [
       "<matplotlib.legend.Legend at 0x2d8a776b0>"
      ]
     },
     "execution_count": 350,
     "metadata": {},
     "output_type": "execute_result"
    },
    {
     "data": {
      "image/png": "[encoded data removed]",
      "text/plain": [
       "<Figure size 1000x500 with 2 Axes>"
      ]
     },
     "metadata": {},
     "output_type": "display_data"
    }
   ],
   "source": [
    "## Visualize the model performance over the epochs and generate results on the test data.\n",
    "\n",
    "plt.figure(figsize=(10, 5))\n",
    "\n",
    "# Plot training & validation accuracy values\n",
    "plt.subplot(1, 2, 1)\n",
    "plt.plot(history.history['accuracy'])\n",
    "plt.plot(history.history['val_accuracy'])\n",
    "plt.title('Model Accuracy')\n",
    "plt.ylabel('Accuracy')\n",
    "plt.xlabel('Epoch')\n",
    "plt.legend(['Train', 'Validation'], loc='upper left')\n",
    "\n",
    "# Plot training & validation loss values\n",
    "plt.subplot(1, 2, 2)\n",
    "plt.plot(history.history['loss'])\n",
    "plt.plot(history.history['val_loss'])\n",
    "plt.title('Model Loss')\n",
    "plt.ylabel('Loss')\n",
    "plt.xlabel('Epoch')\n",
    "plt.legend(['Train', 'Validation'], loc='upper left')"
   ]
  },
  {
   "cell_type": "code",
   "execution_count": 351,
   "metadata": {},
   "outputs": [
    {
     "name": "stdout",
     "output_type": "stream",
     "text": [
      "\u001b[1m296/296\u001b[0m \u001b[32m━━━━━━━━━━━━━━━━━━━━\u001b[0m\u001b[37m\u001b[0m \u001b[1m20s\u001b[0m 69ms/step\n",
      "Classifier Accuracy: 0.27517700517806193\n"
     ]
    }
   ],
   "source": [
    "## Calculate accuracy\n",
    "\n",
    "y_pred = model_gru.predict(X_test)\n",
    "accuracy = accuracy_score(y_test, y_pred.argmax(axis=1))\n",
    "print(\"Classifier Accuracy:\", accuracy)"
   ]
  },
  {
   "cell_type": "markdown",
   "metadata": {},
   "source": [
    "##### Model 4"
   ]
  },
  {
   "cell_type": "code",
   "execution_count": 310,
   "metadata": {},
   "outputs": [
    {
     "name": "stderr",
     "output_type": "stream",
     "text": [
      "/opt/anaconda3/lib/python3.12/site-packages/keras/src/layers/core/embedding.py:90: UserWarning: Argument `input_length` is deprecated. Just remove it.\n",
      "  warnings.warn(\n"
     ]
    },
    {
     "name": "stdout",
     "output_type": "stream",
     "text": [
      "Epoch 1/5\n",
      "\u001b[1m237/237\u001b[0m \u001b[32m━━━━━━━━━━━━━━━━━━━━\u001b[0m\u001b[37m\u001b[0m \u001b[1m83s\u001b[0m 347ms/step - accuracy: 0.2577 - loss: 8.7177 - val_accuracy: 0.2720 - val_loss: 2.6009\n",
      "Epoch 2/5\n",
      "\u001b[1m237/237\u001b[0m \u001b[32m━━━━━━━━━━━━━━━━━━━━\u001b[0m\u001b[37m\u001b[0m \u001b[1m84s\u001b[0m 356ms/step - accuracy: 0.2785 - loss: 2.3844 - val_accuracy: 0.2720 - val_loss: 2.1564\n",
      "Epoch 3/5\n",
      "\u001b[1m237/237\u001b[0m \u001b[32m━━━━━━━━━━━━━━━━━━━━\u001b[0m\u001b[37m\u001b[0m \u001b[1m84s\u001b[0m 355ms/step - accuracy: 0.2824 - loss: 2.1346 - val_accuracy: 0.2720 - val_loss: 2.1251\n",
      "Epoch 4/5\n",
      "\u001b[1m237/237\u001b[0m \u001b[32m━━━━━━━━━━━━━━━━━━━━\u001b[0m\u001b[37m\u001b[0m \u001b[1m83s\u001b[0m 349ms/step - accuracy: 0.2795 - loss: 2.1168 - val_accuracy: 0.2720 - val_loss: 2.1171\n",
      "Epoch 5/5\n",
      "\u001b[1m237/237\u001b[0m \u001b[32m━━━━━━━━━━━━━━━━━━━━\u001b[0m\u001b[37m\u001b[0m \u001b[1m82s\u001b[0m 344ms/step - accuracy: 0.2825 - loss: 2.1045 - val_accuracy: 0.2720 - val_loss: 2.1139\n",
      "Elapsed time: 6.93 minutes\n",
      "Results:\n",
      "\u001b[1m296/296\u001b[0m \u001b[32m━━━━━━━━━━━━━━━━━━━━\u001b[0m\u001b[37m\u001b[0m \u001b[1m9s\u001b[0m 30ms/step - accuracy: 0.2776 - loss: 2.1087\n",
      "Validation Loss: 2.1143\n",
      "Validation Accuracy: 0.2752\n"
     ]
    }
   ],
   "source": [
    "## Build the Simple RNN model using sgd optimizer\n",
    "\n",
    "vocab_size = len(tokenizer.word_index) + 1 # Size of vocabulary\n",
    "embedding_dim = 50 # Dimension of word embeddings\n",
    "max_length = X_train.shape[1] # Maximum length of input sequences\n",
    "\n",
    "model = keras.Sequential([\n",
    "    layers.Embedding(vocab_size, embedding_dim, input_length = max_length),\n",
    "    layers.SimpleRNN(100),\n",
    "    layers.Dense(vocab_size, activation = 'softmax')\n",
    "])\n",
    "\n",
    "model.compile(loss = 'sparse_categorical_crossentropy', optimizer = 'sgd', metrics = ['accuracy'])\n",
    "\n",
    "start_time = time.time()\n",
    "history = model.fit(X_train,\n",
    "                    y_train,\n",
    "                    epochs = 5,\n",
    "                    validation_split = 0.2,\n",
    "                    batch_size = 128\n",
    "                    )\n",
    "end_time = time.time()\n",
    "elapsed_time_minutes = (end_time - start_time) / 60\n",
    "print(f\"Elapsed time: {elapsed_time_minutes:.2f} minutes\")\n",
    "\n",
    "print(\"Results:\")\n",
    "loss, accuracy = model.evaluate(X_test, y_test)\n",
    "print(f\"Validation Loss: {loss:.4f}\")\n",
    "print(f\"Validation Accuracy: {accuracy:.4f}\")"
   ]
  },
  {
   "cell_type": "code",
   "execution_count": 311,
   "metadata": {},
   "outputs": [
    {
     "data": {
      "text/html": [
       "<pre style=\"white-space:pre;overflow-x:auto;line-height:normal;font-family:Menlo,'DejaVu Sans Mono',consolas,'Courier New',monospace\"><span style=\"font-weight: bold\">Model: \"sequential_16\"</span>\n",
       "</pre>\n"
      ],
      "text/plain": [
       "\u001b[1mModel: \"sequential_16\"\u001b[0m\n"
      ]
     },
     "metadata": {},
     "output_type": "display_data"
    },
    {
     "data": {
      "text/html": [
       "<pre style=\"white-space:pre;overflow-x:auto;line-height:normal;font-family:Menlo,'DejaVu Sans Mono',consolas,'Courier New',monospace\">┏━━━━━━━━━━━━━━━━━━━━━━━━━━━━━━━━━┳━━━━━━━━━━━━━━━━━━━━━━━━┳━━━━━━━━━━━━━━━┓\n",
       "┃<span style=\"font-weight: bold\"> Layer (type)                    </span>┃<span style=\"font-weight: bold\"> Output Shape           </span>┃<span style=\"font-weight: bold\">       Param # </span>┃\n",
       "┡━━━━━━━━━━━━━━━━━━━━━━━━━━━━━━━━━╇━━━━━━━━━━━━━━━━━━━━━━━━╇━━━━━━━━━━━━━━━┩\n",
       "│ embedding_16 (<span style=\"color: #0087ff; text-decoration-color: #0087ff\">Embedding</span>)        │ (<span style=\"color: #00d7ff; text-decoration-color: #00d7ff\">None</span>, <span style=\"color: #00af00; text-decoration-color: #00af00\">1147</span>, <span style=\"color: #00af00; text-decoration-color: #00af00\">50</span>)       │     <span style=\"color: #00af00; text-decoration-color: #00af00\">4,337,950</span> │\n",
       "├─────────────────────────────────┼────────────────────────┼───────────────┤\n",
       "│ simple_rnn_12 (<span style=\"color: #0087ff; text-decoration-color: #0087ff\">SimpleRNN</span>)       │ (<span style=\"color: #00d7ff; text-decoration-color: #00d7ff\">None</span>, <span style=\"color: #00af00; text-decoration-color: #00af00\">100</span>)            │        <span style=\"color: #00af00; text-decoration-color: #00af00\">15,100</span> │\n",
       "├─────────────────────────────────┼────────────────────────┼───────────────┤\n",
       "│ dense_16 (<span style=\"color: #0087ff; text-decoration-color: #0087ff\">Dense</span>)                │ (<span style=\"color: #00d7ff; text-decoration-color: #00d7ff\">None</span>, <span style=\"color: #00af00; text-decoration-color: #00af00\">86759</span>)          │     <span style=\"color: #00af00; text-decoration-color: #00af00\">8,762,659</span> │\n",
       "└─────────────────────────────────┴────────────────────────┴───────────────┘\n",
       "</pre>\n"
      ],
      "text/plain": [
       "┏━━━━━━━━━━━━━━━━━━━━━━━━━━━━━━━━━┳━━━━━━━━━━━━━━━━━━━━━━━━┳━━━━━━━━━━━━━━━┓\n",
       "┃\u001b[1m \u001b[0m\u001b[1mLayer (type)                   \u001b[0m\u001b[1m \u001b[0m┃\u001b[1m \u001b[0m\u001b[1mOutput Shape          \u001b[0m\u001b[1m \u001b[0m┃\u001b[1m \u001b[0m\u001b[1m      Param #\u001b[0m\u001b[1m \u001b[0m┃\n",
       "┡━━━━━━━━━━━━━━━━━━━━━━━━━━━━━━━━━╇━━━━━━━━━━━━━━━━━━━━━━━━╇━━━━━━━━━━━━━━━┩\n",
       "│ embedding_16 (\u001b[38;5;33mEmbedding\u001b[0m)        │ (\u001b[38;5;45mNone\u001b[0m, \u001b[38;5;34m1147\u001b[0m, \u001b[38;5;34m50\u001b[0m)       │     \u001b[38;5;34m4,337,950\u001b[0m │\n",
       "├─────────────────────────────────┼────────────────────────┼───────────────┤\n",
       "│ simple_rnn_12 (\u001b[38;5;33mSimpleRNN\u001b[0m)       │ (\u001b[38;5;45mNone\u001b[0m, \u001b[38;5;34m100\u001b[0m)            │        \u001b[38;5;34m15,100\u001b[0m │\n",
       "├─────────────────────────────────┼────────────────────────┼───────────────┤\n",
       "│ dense_16 (\u001b[38;5;33mDense\u001b[0m)                │ (\u001b[38;5;45mNone\u001b[0m, \u001b[38;5;34m86759\u001b[0m)          │     \u001b[38;5;34m8,762,659\u001b[0m │\n",
       "└─────────────────────────────────┴────────────────────────┴───────────────┘\n"
      ]
     },
     "metadata": {},
     "output_type": "display_data"
    },
    {
     "data": {
      "text/html": [
       "<pre style=\"white-space:pre;overflow-x:auto;line-height:normal;font-family:Menlo,'DejaVu Sans Mono',consolas,'Courier New',monospace\"><span style=\"font-weight: bold\"> Total params: </span><span style=\"color: #00af00; text-decoration-color: #00af00\">13,115,711</span> (50.03 MB)\n",
       "</pre>\n"
      ],
      "text/plain": [
       "\u001b[1m Total params: \u001b[0m\u001b[38;5;34m13,115,711\u001b[0m (50.03 MB)\n"
      ]
     },
     "metadata": {},
     "output_type": "display_data"
    },
    {
     "data": {
      "text/html": [
       "<pre style=\"white-space:pre;overflow-x:auto;line-height:normal;font-family:Menlo,'DejaVu Sans Mono',consolas,'Courier New',monospace\"><span style=\"font-weight: bold\"> Trainable params: </span><span style=\"color: #00af00; text-decoration-color: #00af00\">13,115,709</span> (50.03 MB)\n",
       "</pre>\n"
      ],
      "text/plain": [
       "\u001b[1m Trainable params: \u001b[0m\u001b[38;5;34m13,115,709\u001b[0m (50.03 MB)\n"
      ]
     },
     "metadata": {},
     "output_type": "display_data"
    },
    {
     "data": {
      "text/html": [
       "<pre style=\"white-space:pre;overflow-x:auto;line-height:normal;font-family:Menlo,'DejaVu Sans Mono',consolas,'Courier New',monospace\"><span style=\"font-weight: bold\"> Non-trainable params: </span><span style=\"color: #00af00; text-decoration-color: #00af00\">0</span> (0.00 B)\n",
       "</pre>\n"
      ],
      "text/plain": [
       "\u001b[1m Non-trainable params: \u001b[0m\u001b[38;5;34m0\u001b[0m (0.00 B)\n"
      ]
     },
     "metadata": {},
     "output_type": "display_data"
    },
    {
     "data": {
      "text/html": [
       "<pre style=\"white-space:pre;overflow-x:auto;line-height:normal;font-family:Menlo,'DejaVu Sans Mono',consolas,'Courier New',monospace\"><span style=\"font-weight: bold\"> Optimizer params: </span><span style=\"color: #00af00; text-decoration-color: #00af00\">2</span> (12.00 B)\n",
       "</pre>\n"
      ],
      "text/plain": [
       "\u001b[1m Optimizer params: \u001b[0m\u001b[38;5;34m2\u001b[0m (12.00 B)\n"
      ]
     },
     "metadata": {},
     "output_type": "display_data"
    }
   ],
   "source": [
    "model.summary()"
   ]
  },
  {
   "cell_type": "code",
   "execution_count": 312,
   "metadata": {},
   "outputs": [
    {
     "data": {
      "text/plain": [
       "<matplotlib.legend.Legend at 0x28f7a7950>"
      ]
     },
     "execution_count": 312,
     "metadata": {},
     "output_type": "execute_result"
    },
    {
     "data": {
      "image/png": "[encoded data removed]",
      "text/plain": [
       "<Figure size 1000x500 with 2 Axes>"
      ]
     },
     "metadata": {},
     "output_type": "display_data"
    }
   ],
   "source": [
    "## Visualize the model performance over the epochs and generate results on the test data.\n",
    "\n",
    "plt.figure(figsize=(10, 5))\n",
    "\n",
    "# Plot training & validation accuracy values\n",
    "plt.subplot(1, 2, 1)\n",
    "plt.plot(history.history['accuracy'])\n",
    "plt.plot(history.history['val_accuracy'])\n",
    "plt.title('Model Accuracy')\n",
    "plt.ylabel('Accuracy')\n",
    "plt.xlabel('Epoch')\n",
    "plt.legend(['Train', 'Validation'], loc='upper left')\n",
    "\n",
    "# Plot training & validation loss values\n",
    "plt.subplot(1, 2, 2)\n",
    "plt.plot(history.history['loss'])\n",
    "plt.plot(history.history['val_loss'])\n",
    "plt.title('Model Loss')\n",
    "plt.ylabel('Loss')\n",
    "plt.xlabel('Epoch')\n",
    "plt.legend(['Train', 'Validation'], loc='upper left')"
   ]
  },
  {
   "cell_type": "code",
   "execution_count": 313,
   "metadata": {},
   "outputs": [
    {
     "name": "stdout",
     "output_type": "stream",
     "text": [
      "\u001b[1m296/296\u001b[0m \u001b[32m━━━━━━━━━━━━━━━━━━━━\u001b[0m\u001b[37m\u001b[0m \u001b[1m9s\u001b[0m 29ms/step\n",
      "Classifier Accuracy: 0.27517700517806193\n"
     ]
    }
   ],
   "source": [
    "y_pred = model.predict(X_test)\n",
    "accuracy = accuracy_score(y_test, y_pred.argmax(axis=1))\n",
    "print(\"Classifier Accuracy:\", accuracy)"
   ]
  },
  {
   "cell_type": "markdown",
   "metadata": {},
   "source": [
    "##### Model 5"
   ]
  },
  {
   "cell_type": "code",
   "execution_count": 314,
   "metadata": {},
   "outputs": [
    {
     "name": "stdout",
     "output_type": "stream",
     "text": [
      "Epoch 1/5\n"
     ]
    },
    {
     "name": "stderr",
     "output_type": "stream",
     "text": [
      "/opt/anaconda3/lib/python3.12/site-packages/keras/src/layers/core/embedding.py:90: UserWarning: Argument `input_length` is deprecated. Just remove it.\n",
      "  warnings.warn(\n"
     ]
    },
    {
     "name": "stdout",
     "output_type": "stream",
     "text": [
      "\u001b[1m237/237\u001b[0m \u001b[32m━━━━━━━━━━━━━━━━━━━━\u001b[0m\u001b[37m\u001b[0m \u001b[1m88s\u001b[0m 370ms/step - accuracy: 0.1778 - loss: 11.2153 - val_accuracy: 0.2720 - val_loss: 10.0641\n",
      "Epoch 2/5\n",
      "\u001b[1m237/237\u001b[0m \u001b[32m━━━━━━━━━━━━━━━━━━━━\u001b[0m\u001b[37m\u001b[0m \u001b[1m89s\u001b[0m 374ms/step - accuracy: 0.2802 - loss: 9.5730 - val_accuracy: 0.2720 - val_loss: 8.2101\n",
      "Epoch 3/5\n",
      "\u001b[1m237/237\u001b[0m \u001b[32m━━━━━━━━━━━━━━━━━━━━\u001b[0m\u001b[37m\u001b[0m \u001b[1m88s\u001b[0m 372ms/step - accuracy: 0.2854 - loss: 7.8160 - val_accuracy: 0.2720 - val_loss: 6.8022\n",
      "Epoch 4/5\n",
      "\u001b[1m237/237\u001b[0m \u001b[32m━━━━━━━━━━━━━━━━━━━━\u001b[0m\u001b[37m\u001b[0m \u001b[1m89s\u001b[0m 374ms/step - accuracy: 0.2826 - loss: 6.5031 - val_accuracy: 0.2720 - val_loss: 5.7402\n",
      "Epoch 5/5\n",
      "\u001b[1m237/237\u001b[0m \u001b[32m━━━━━━━━━━━━━━━━━━━━\u001b[0m\u001b[37m\u001b[0m \u001b[1m89s\u001b[0m 374ms/step - accuracy: 0.2802 - loss: 5.5130 - val_accuracy: 0.2720 - val_loss: 4.9117\n",
      "Elapsed time: 7.38 minutes\n",
      "Results:\n",
      "\u001b[1m296/296\u001b[0m \u001b[32m━━━━━━━━━━━━━━━━━━━━\u001b[0m\u001b[37m\u001b[0m \u001b[1m9s\u001b[0m 30ms/step - accuracy: 0.2776 - loss: 4.9056\n",
      "Validation Loss: 4.9140\n",
      "Validation Accuracy: 0.2752\n"
     ]
    }
   ],
   "source": [
    "## Build the Simple RNN model using adagras optimizer\n",
    "\n",
    "vocab_size = len(tokenizer.word_index) + 1 # Size of vocabulary\n",
    "embedding_dim = 50 # Dimension of word embeddings\n",
    "max_length = X_train.shape[1] # Maximum length of input sequences\n",
    "\n",
    "model = keras.Sequential([\n",
    "    layers.Embedding(vocab_size, embedding_dim, input_length = max_length),\n",
    "    layers.SimpleRNN(100),\n",
    "    layers.Dense(vocab_size, activation = 'softmax')\n",
    "])\n",
    "\n",
    "model.compile(loss = 'sparse_categorical_crossentropy', optimizer = 'adagrad', metrics = ['accuracy'])\n",
    "\n",
    "start_time = time.time()\n",
    "history = model.fit(X_train,\n",
    "                    y_train,\n",
    "                    epochs = 5,\n",
    "                    validation_split = 0.2,\n",
    "                    batch_size = 128\n",
    "                    )\n",
    "end_time = time.time()\n",
    "elapsed_time_minutes = (end_time - start_time) / 60\n",
    "print(f\"Elapsed time: {elapsed_time_minutes:.2f} minutes\")\n",
    "\n",
    "print(\"Results:\")\n",
    "loss, accuracy = model.evaluate(X_test, y_test)\n",
    "print(f\"Validation Loss: {loss:.4f}\")\n",
    "print(f\"Validation Accuracy: {accuracy:.4f}\")"
   ]
  },
  {
   "cell_type": "code",
   "execution_count": 315,
   "metadata": {},
   "outputs": [
    {
     "data": {
      "text/html": [
       "<pre style=\"white-space:pre;overflow-x:auto;line-height:normal;font-family:Menlo,'DejaVu Sans Mono',consolas,'Courier New',monospace\"><span style=\"font-weight: bold\">Model: \"sequential_17\"</span>\n",
       "</pre>\n"
      ],
      "text/plain": [
       "\u001b[1mModel: \"sequential_17\"\u001b[0m\n"
      ]
     },
     "metadata": {},
     "output_type": "display_data"
    },
    {
     "data": {
      "text/html": [
       "<pre style=\"white-space:pre;overflow-x:auto;line-height:normal;font-family:Menlo,'DejaVu Sans Mono',consolas,'Courier New',monospace\">┏━━━━━━━━━━━━━━━━━━━━━━━━━━━━━━━━━┳━━━━━━━━━━━━━━━━━━━━━━━━┳━━━━━━━━━━━━━━━┓\n",
       "┃<span style=\"font-weight: bold\"> Layer (type)                    </span>┃<span style=\"font-weight: bold\"> Output Shape           </span>┃<span style=\"font-weight: bold\">       Param # </span>┃\n",
       "┡━━━━━━━━━━━━━━━━━━━━━━━━━━━━━━━━━╇━━━━━━━━━━━━━━━━━━━━━━━━╇━━━━━━━━━━━━━━━┩\n",
       "│ embedding_17 (<span style=\"color: #0087ff; text-decoration-color: #0087ff\">Embedding</span>)        │ (<span style=\"color: #00d7ff; text-decoration-color: #00d7ff\">None</span>, <span style=\"color: #00af00; text-decoration-color: #00af00\">1147</span>, <span style=\"color: #00af00; text-decoration-color: #00af00\">50</span>)       │     <span style=\"color: #00af00; text-decoration-color: #00af00\">4,337,950</span> │\n",
       "├─────────────────────────────────┼────────────────────────┼───────────────┤\n",
       "│ simple_rnn_13 (<span style=\"color: #0087ff; text-decoration-color: #0087ff\">SimpleRNN</span>)       │ (<span style=\"color: #00d7ff; text-decoration-color: #00d7ff\">None</span>, <span style=\"color: #00af00; text-decoration-color: #00af00\">100</span>)            │        <span style=\"color: #00af00; text-decoration-color: #00af00\">15,100</span> │\n",
       "├─────────────────────────────────┼────────────────────────┼───────────────┤\n",
       "│ dense_17 (<span style=\"color: #0087ff; text-decoration-color: #0087ff\">Dense</span>)                │ (<span style=\"color: #00d7ff; text-decoration-color: #00d7ff\">None</span>, <span style=\"color: #00af00; text-decoration-color: #00af00\">86759</span>)          │     <span style=\"color: #00af00; text-decoration-color: #00af00\">8,762,659</span> │\n",
       "└─────────────────────────────────┴────────────────────────┴───────────────┘\n",
       "</pre>\n"
      ],
      "text/plain": [
       "┏━━━━━━━━━━━━━━━━━━━━━━━━━━━━━━━━━┳━━━━━━━━━━━━━━━━━━━━━━━━┳━━━━━━━━━━━━━━━┓\n",
       "┃\u001b[1m \u001b[0m\u001b[1mLayer (type)                   \u001b[0m\u001b[1m \u001b[0m┃\u001b[1m \u001b[0m\u001b[1mOutput Shape          \u001b[0m\u001b[1m \u001b[0m┃\u001b[1m \u001b[0m\u001b[1m      Param #\u001b[0m\u001b[1m \u001b[0m┃\n",
       "┡━━━━━━━━━━━━━━━━━━━━━━━━━━━━━━━━━╇━━━━━━━━━━━━━━━━━━━━━━━━╇━━━━━━━━━━━━━━━┩\n",
       "│ embedding_17 (\u001b[38;5;33mEmbedding\u001b[0m)        │ (\u001b[38;5;45mNone\u001b[0m, \u001b[38;5;34m1147\u001b[0m, \u001b[38;5;34m50\u001b[0m)       │     \u001b[38;5;34m4,337,950\u001b[0m │\n",
       "├─────────────────────────────────┼────────────────────────┼───────────────┤\n",
       "│ simple_rnn_13 (\u001b[38;5;33mSimpleRNN\u001b[0m)       │ (\u001b[38;5;45mNone\u001b[0m, \u001b[38;5;34m100\u001b[0m)            │        \u001b[38;5;34m15,100\u001b[0m │\n",
       "├─────────────────────────────────┼────────────────────────┼───────────────┤\n",
       "│ dense_17 (\u001b[38;5;33mDense\u001b[0m)                │ (\u001b[38;5;45mNone\u001b[0m, \u001b[38;5;34m86759\u001b[0m)          │     \u001b[38;5;34m8,762,659\u001b[0m │\n",
       "└─────────────────────────────────┴────────────────────────┴───────────────┘\n"
      ]
     },
     "metadata": {},
     "output_type": "display_data"
    },
    {
     "data": {
      "text/html": [
       "<pre style=\"white-space:pre;overflow-x:auto;line-height:normal;font-family:Menlo,'DejaVu Sans Mono',consolas,'Courier New',monospace\"><span style=\"font-weight: bold\"> Total params: </span><span style=\"color: #00af00; text-decoration-color: #00af00\">26,231,420</span> (100.06 MB)\n",
       "</pre>\n"
      ],
      "text/plain": [
       "\u001b[1m Total params: \u001b[0m\u001b[38;5;34m26,231,420\u001b[0m (100.06 MB)\n"
      ]
     },
     "metadata": {},
     "output_type": "display_data"
    },
    {
     "data": {
      "text/html": [
       "<pre style=\"white-space:pre;overflow-x:auto;line-height:normal;font-family:Menlo,'DejaVu Sans Mono',consolas,'Courier New',monospace\"><span style=\"font-weight: bold\"> Trainable params: </span><span style=\"color: #00af00; text-decoration-color: #00af00\">13,115,709</span> (50.03 MB)\n",
       "</pre>\n"
      ],
      "text/plain": [
       "\u001b[1m Trainable params: \u001b[0m\u001b[38;5;34m13,115,709\u001b[0m (50.03 MB)\n"
      ]
     },
     "metadata": {},
     "output_type": "display_data"
    },
    {
     "data": {
      "text/html": [
       "<pre style=\"white-space:pre;overflow-x:auto;line-height:normal;font-family:Menlo,'DejaVu Sans Mono',consolas,'Courier New',monospace\"><span style=\"font-weight: bold\"> Non-trainable params: </span><span style=\"color: #00af00; text-decoration-color: #00af00\">0</span> (0.00 B)\n",
       "</pre>\n"
      ],
      "text/plain": [
       "\u001b[1m Non-trainable params: \u001b[0m\u001b[38;5;34m0\u001b[0m (0.00 B)\n"
      ]
     },
     "metadata": {},
     "output_type": "display_data"
    },
    {
     "data": {
      "text/html": [
       "<pre style=\"white-space:pre;overflow-x:auto;line-height:normal;font-family:Menlo,'DejaVu Sans Mono',consolas,'Courier New',monospace\"><span style=\"font-weight: bold\"> Optimizer params: </span><span style=\"color: #00af00; text-decoration-color: #00af00\">13,115,711</span> (50.03 MB)\n",
       "</pre>\n"
      ],
      "text/plain": [
       "\u001b[1m Optimizer params: \u001b[0m\u001b[38;5;34m13,115,711\u001b[0m (50.03 MB)\n"
      ]
     },
     "metadata": {},
     "output_type": "display_data"
    }
   ],
   "source": [
    "model.summary()"
   ]
  },
  {
   "cell_type": "code",
   "execution_count": 316,
   "metadata": {},
   "outputs": [
    {
     "data": {
      "text/plain": [
       "<matplotlib.legend.Legend at 0x2d01036b0>"
      ]
     },
     "execution_count": 316,
     "metadata": {},
     "output_type": "execute_result"
    },
    {
     "data": {
      "image/png": "[encoded data removed]",
      "text/plain": [
       "<Figure size 1000x500 with 2 Axes>"
      ]
     },
     "metadata": {},
     "output_type": "display_data"
    }
   ],
   "source": [
    "## Visualize the model performance over the epochs and generate results on the test data.\n",
    "\n",
    "plt.figure(figsize=(10, 5))\n",
    "\n",
    "# Plot training & validation accuracy values\n",
    "plt.subplot(1, 2, 1)\n",
    "plt.plot(history.history['accuracy'])\n",
    "plt.plot(history.history['val_accuracy'])\n",
    "plt.title('Model Accuracy')\n",
    "plt.ylabel('Accuracy')\n",
    "plt.xlabel('Epoch')\n",
    "plt.legend(['Train', 'Validation'], loc='upper left')\n",
    "\n",
    "# Plot training & validation loss values\n",
    "plt.subplot(1, 2, 2)\n",
    "plt.plot(history.history['loss'])\n",
    "plt.plot(history.history['val_loss'])\n",
    "plt.title('Model Loss')\n",
    "plt.ylabel('Loss')\n",
    "plt.xlabel('Epoch')\n",
    "plt.legend(['Train', 'Validation'], loc='upper left')"
   ]
  },
  {
   "cell_type": "code",
   "execution_count": 317,
   "metadata": {},
   "outputs": [
    {
     "name": "stdout",
     "output_type": "stream",
     "text": [
      "\u001b[1m296/296\u001b[0m \u001b[32m━━━━━━━━━━━━━━━━━━━━\u001b[0m\u001b[37m\u001b[0m \u001b[1m8s\u001b[0m 28ms/step\n",
      "Classifier Accuracy: 0.27517700517806193\n"
     ]
    }
   ],
   "source": [
    "y_pred = model.predict(X_test)\n",
    "accuracy = accuracy_score(y_test, y_pred.argmax(axis=1))\n",
    "print(\"Classifier Accuracy:\", accuracy)"
   ]
  },
  {
   "cell_type": "markdown",
   "metadata": {},
   "source": [
    "##### Model 6"
   ]
  },
  {
   "cell_type": "code",
   "execution_count": 318,
   "metadata": {},
   "outputs": [
    {
     "name": "stdout",
     "output_type": "stream",
     "text": [
      "Epoch 1/5\n"
     ]
    },
    {
     "name": "stderr",
     "output_type": "stream",
     "text": [
      "/opt/anaconda3/lib/python3.12/site-packages/keras/src/layers/core/embedding.py:90: UserWarning: Argument `input_length` is deprecated. Just remove it.\n",
      "  warnings.warn(\n"
     ]
    },
    {
     "name": "stdout",
     "output_type": "stream",
     "text": [
      "\u001b[1m237/237\u001b[0m \u001b[32m━━━━━━━━━━━━━━━━━━━━\u001b[0m\u001b[37m\u001b[0m \u001b[1m129s\u001b[0m 543ms/step - accuracy: 0.2417 - loss: 6.7365 - val_accuracy: 0.2720 - val_loss: 2.1439\n",
      "Epoch 2/5\n",
      "\u001b[1m237/237\u001b[0m \u001b[32m━━━━━━━━━━━━━━━━━━━━\u001b[0m\u001b[37m\u001b[0m \u001b[1m129s\u001b[0m 544ms/step - accuracy: 0.2788 - loss: 2.1239 - val_accuracy: 0.2720 - val_loss: 2.1150\n",
      "Epoch 3/5\n",
      "\u001b[1m237/237\u001b[0m \u001b[32m━━━━━━━━━━━━━━━━━━━━\u001b[0m\u001b[37m\u001b[0m \u001b[1m129s\u001b[0m 544ms/step - accuracy: 0.2855 - loss: 2.0950 - val_accuracy: 0.2720 - val_loss: 2.1079\n",
      "Epoch 4/5\n",
      "\u001b[1m237/237\u001b[0m \u001b[32m━━━━━━━━━━━━━━━━━━━━\u001b[0m\u001b[37m\u001b[0m \u001b[1m129s\u001b[0m 545ms/step - accuracy: 0.2832 - loss: 2.0955 - val_accuracy: 0.2720 - val_loss: 2.1048\n",
      "Epoch 5/5\n",
      "\u001b[1m237/237\u001b[0m \u001b[32m━━━━━━━━━━━━━━━━━━━━\u001b[0m\u001b[37m\u001b[0m \u001b[1m129s\u001b[0m 543ms/step - accuracy: 0.2811 - loss: 2.0965 - val_accuracy: 0.2720 - val_loss: 2.1056\n",
      "Elapsed time: 10.75 minutes\n",
      "Results:\n",
      "\u001b[1m296/296\u001b[0m \u001b[32m━━━━━━━━━━━━━━━━━━━━\u001b[0m\u001b[37m\u001b[0m \u001b[1m14s\u001b[0m 47ms/step - accuracy: 0.2776 - loss: 2.1004\n",
      "Validation Loss: 2.1055\n",
      "Validation Accuracy: 0.2752\n"
     ]
    }
   ],
   "source": [
    "## Build the Simple RNN model with 2 SimpleRNN layers\n",
    "\n",
    "vocab_size = len(tokenizer.word_index) + 1 # Size of vocabulary\n",
    "embedding_dim = 50 # Dimension of word embeddings\n",
    "max_length = X_train.shape[1] # Maximum length of input sequences\n",
    "\n",
    "model = keras.Sequential([\n",
    "    layers.Embedding(vocab_size, embedding_dim, input_length = max_length),\n",
    "    layers.SimpleRNN(100, return_sequences=True),\n",
    "    layers.SimpleRNN(50),\n",
    "    layers.Dense(vocab_size, activation = 'softmax')\n",
    "])\n",
    "\n",
    "model.compile(loss = 'sparse_categorical_crossentropy', optimizer = 'adam', metrics = ['accuracy'])\n",
    "\n",
    "start_time = time.time()\n",
    "history = model.fit(X_train,\n",
    "                    y_train,\n",
    "                    epochs = 5,\n",
    "                    validation_split = 0.2,\n",
    "                    batch_size = 128\n",
    "                    )\n",
    "end_time = time.time()\n",
    "elapsed_time_minutes = (end_time - start_time) / 60\n",
    "print(f\"Elapsed time: {elapsed_time_minutes:.2f} minutes\")\n",
    "\n",
    "print(\"Results:\")\n",
    "loss, accuracy = model.evaluate(X_test, y_test)\n",
    "print(f\"Validation Loss: {loss:.4f}\")\n",
    "print(f\"Validation Accuracy: {accuracy:.4f}\")"
   ]
  },
  {
   "cell_type": "code",
   "execution_count": 319,
   "metadata": {},
   "outputs": [
    {
     "data": {
      "text/html": [
       "<pre style=\"white-space:pre;overflow-x:auto;line-height:normal;font-family:Menlo,'DejaVu Sans Mono',consolas,'Courier New',monospace\"><span style=\"font-weight: bold\">Model: \"sequential_18\"</span>\n",
       "</pre>\n"
      ],
      "text/plain": [
       "\u001b[1mModel: \"sequential_18\"\u001b[0m\n"
      ]
     },
     "metadata": {},
     "output_type": "display_data"
    },
    {
     "data": {
      "text/html": [
       "<pre style=\"white-space:pre;overflow-x:auto;line-height:normal;font-family:Menlo,'DejaVu Sans Mono',consolas,'Courier New',monospace\">┏━━━━━━━━━━━━━━━━━━━━━━━━━━━━━━━━━┳━━━━━━━━━━━━━━━━━━━━━━━━┳━━━━━━━━━━━━━━━┓\n",
       "┃<span style=\"font-weight: bold\"> Layer (type)                    </span>┃<span style=\"font-weight: bold\"> Output Shape           </span>┃<span style=\"font-weight: bold\">       Param # </span>┃\n",
       "┡━━━━━━━━━━━━━━━━━━━━━━━━━━━━━━━━━╇━━━━━━━━━━━━━━━━━━━━━━━━╇━━━━━━━━━━━━━━━┩\n",
       "│ embedding_18 (<span style=\"color: #0087ff; text-decoration-color: #0087ff\">Embedding</span>)        │ (<span style=\"color: #00d7ff; text-decoration-color: #00d7ff\">None</span>, <span style=\"color: #00af00; text-decoration-color: #00af00\">1147</span>, <span style=\"color: #00af00; text-decoration-color: #00af00\">50</span>)       │     <span style=\"color: #00af00; text-decoration-color: #00af00\">4,337,950</span> │\n",
       "├─────────────────────────────────┼────────────────────────┼───────────────┤\n",
       "│ simple_rnn_14 (<span style=\"color: #0087ff; text-decoration-color: #0087ff\">SimpleRNN</span>)       │ (<span style=\"color: #00d7ff; text-decoration-color: #00d7ff\">None</span>, <span style=\"color: #00af00; text-decoration-color: #00af00\">1147</span>, <span style=\"color: #00af00; text-decoration-color: #00af00\">100</span>)      │        <span style=\"color: #00af00; text-decoration-color: #00af00\">15,100</span> │\n",
       "├─────────────────────────────────┼────────────────────────┼───────────────┤\n",
       "│ simple_rnn_15 (<span style=\"color: #0087ff; text-decoration-color: #0087ff\">SimpleRNN</span>)       │ (<span style=\"color: #00d7ff; text-decoration-color: #00d7ff\">None</span>, <span style=\"color: #00af00; text-decoration-color: #00af00\">50</span>)             │         <span style=\"color: #00af00; text-decoration-color: #00af00\">7,550</span> │\n",
       "├─────────────────────────────────┼────────────────────────┼───────────────┤\n",
       "│ dense_18 (<span style=\"color: #0087ff; text-decoration-color: #0087ff\">Dense</span>)                │ (<span style=\"color: #00d7ff; text-decoration-color: #00d7ff\">None</span>, <span style=\"color: #00af00; text-decoration-color: #00af00\">86759</span>)          │     <span style=\"color: #00af00; text-decoration-color: #00af00\">4,424,709</span> │\n",
       "└─────────────────────────────────┴────────────────────────┴───────────────┘\n",
       "</pre>\n"
      ],
      "text/plain": [
       "┏━━━━━━━━━━━━━━━━━━━━━━━━━━━━━━━━━┳━━━━━━━━━━━━━━━━━━━━━━━━┳━━━━━━━━━━━━━━━┓\n",
       "┃\u001b[1m \u001b[0m\u001b[1mLayer (type)                   \u001b[0m\u001b[1m \u001b[0m┃\u001b[1m \u001b[0m\u001b[1mOutput Shape          \u001b[0m\u001b[1m \u001b[0m┃\u001b[1m \u001b[0m\u001b[1m      Param #\u001b[0m\u001b[1m \u001b[0m┃\n",
       "┡━━━━━━━━━━━━━━━━━━━━━━━━━━━━━━━━━╇━━━━━━━━━━━━━━━━━━━━━━━━╇━━━━━━━━━━━━━━━┩\n",
       "│ embedding_18 (\u001b[38;5;33mEmbedding\u001b[0m)        │ (\u001b[38;5;45mNone\u001b[0m, \u001b[38;5;34m1147\u001b[0m, \u001b[38;5;34m50\u001b[0m)       │     \u001b[38;5;34m4,337,950\u001b[0m │\n",
       "├─────────────────────────────────┼────────────────────────┼───────────────┤\n",
       "│ simple_rnn_14 (\u001b[38;5;33mSimpleRNN\u001b[0m)       │ (\u001b[38;5;45mNone\u001b[0m, \u001b[38;5;34m1147\u001b[0m, \u001b[38;5;34m100\u001b[0m)      │        \u001b[38;5;34m15,100\u001b[0m │\n",
       "├─────────────────────────────────┼────────────────────────┼───────────────┤\n",
       "│ simple_rnn_15 (\u001b[38;5;33mSimpleRNN\u001b[0m)       │ (\u001b[38;5;45mNone\u001b[0m, \u001b[38;5;34m50\u001b[0m)             │         \u001b[38;5;34m7,550\u001b[0m │\n",
       "├─────────────────────────────────┼────────────────────────┼───────────────┤\n",
       "│ dense_18 (\u001b[38;5;33mDense\u001b[0m)                │ (\u001b[38;5;45mNone\u001b[0m, \u001b[38;5;34m86759\u001b[0m)          │     \u001b[38;5;34m4,424,709\u001b[0m │\n",
       "└─────────────────────────────────┴────────────────────────┴───────────────┘\n"
      ]
     },
     "metadata": {},
     "output_type": "display_data"
    },
    {
     "data": {
      "text/html": [
       "<pre style=\"white-space:pre;overflow-x:auto;line-height:normal;font-family:Menlo,'DejaVu Sans Mono',consolas,'Courier New',monospace\"><span style=\"font-weight: bold\"> Total params: </span><span style=\"color: #00af00; text-decoration-color: #00af00\">26,355,929</span> (100.54 MB)\n",
       "</pre>\n"
      ],
      "text/plain": [
       "\u001b[1m Total params: \u001b[0m\u001b[38;5;34m26,355,929\u001b[0m (100.54 MB)\n"
      ]
     },
     "metadata": {},
     "output_type": "display_data"
    },
    {
     "data": {
      "text/html": [
       "<pre style=\"white-space:pre;overflow-x:auto;line-height:normal;font-family:Menlo,'DejaVu Sans Mono',consolas,'Courier New',monospace\"><span style=\"font-weight: bold\"> Trainable params: </span><span style=\"color: #00af00; text-decoration-color: #00af00\">8,785,309</span> (33.51 MB)\n",
       "</pre>\n"
      ],
      "text/plain": [
       "\u001b[1m Trainable params: \u001b[0m\u001b[38;5;34m8,785,309\u001b[0m (33.51 MB)\n"
      ]
     },
     "metadata": {},
     "output_type": "display_data"
    },
    {
     "data": {
      "text/html": [
       "<pre style=\"white-space:pre;overflow-x:auto;line-height:normal;font-family:Menlo,'DejaVu Sans Mono',consolas,'Courier New',monospace\"><span style=\"font-weight: bold\"> Non-trainable params: </span><span style=\"color: #00af00; text-decoration-color: #00af00\">0</span> (0.00 B)\n",
       "</pre>\n"
      ],
      "text/plain": [
       "\u001b[1m Non-trainable params: \u001b[0m\u001b[38;5;34m0\u001b[0m (0.00 B)\n"
      ]
     },
     "metadata": {},
     "output_type": "display_data"
    },
    {
     "data": {
      "text/html": [
       "<pre style=\"white-space:pre;overflow-x:auto;line-height:normal;font-family:Menlo,'DejaVu Sans Mono',consolas,'Courier New',monospace\"><span style=\"font-weight: bold\"> Optimizer params: </span><span style=\"color: #00af00; text-decoration-color: #00af00\">17,570,620</span> (67.03 MB)\n",
       "</pre>\n"
      ],
      "text/plain": [
       "\u001b[1m Optimizer params: \u001b[0m\u001b[38;5;34m17,570,620\u001b[0m (67.03 MB)\n"
      ]
     },
     "metadata": {},
     "output_type": "display_data"
    }
   ],
   "source": [
    "model.summary()"
   ]
  },
  {
   "cell_type": "code",
   "execution_count": 320,
   "metadata": {},
   "outputs": [
    {
     "data": {
      "text/plain": [
       "<matplotlib.legend.Legend at 0x2d0187260>"
      ]
     },
     "execution_count": 320,
     "metadata": {},
     "output_type": "execute_result"
    },
    {
     "data": {
      "image/png": "[encoded data removed]",
      "text/plain": [
       "<Figure size 1000x500 with 2 Axes>"
      ]
     },
     "metadata": {},
     "output_type": "display_data"
    }
   ],
   "source": [
    "## Visualize the model performance over the epochs and generate results on the test data.\n",
    "\n",
    "plt.figure(figsize=(10, 5))\n",
    "\n",
    "# Plot training & validation accuracy values\n",
    "plt.subplot(1, 2, 1)\n",
    "plt.plot(history.history['accuracy'])\n",
    "plt.plot(history.history['val_accuracy'])\n",
    "plt.title('Model Accuracy')\n",
    "plt.ylabel('Accuracy')\n",
    "plt.xlabel('Epoch')\n",
    "plt.legend(['Train', 'Validation'], loc='upper left')\n",
    "\n",
    "# Plot training & validation loss values\n",
    "plt.subplot(1, 2, 2)\n",
    "plt.plot(history.history['loss'])\n",
    "plt.plot(history.history['val_loss'])\n",
    "plt.title('Model Loss')\n",
    "plt.ylabel('Loss')\n",
    "plt.xlabel('Epoch')\n",
    "plt.legend(['Train', 'Validation'], loc='upper left')"
   ]
  },
  {
   "cell_type": "code",
   "execution_count": 321,
   "metadata": {},
   "outputs": [
    {
     "name": "stdout",
     "output_type": "stream",
     "text": [
      "\u001b[1m296/296\u001b[0m \u001b[32m━━━━━━━━━━━━━━━━━━━━\u001b[0m\u001b[37m\u001b[0m \u001b[1m14s\u001b[0m 47ms/step\n",
      "Classifier Accuracy: 0.27517700517806193\n"
     ]
    }
   ],
   "source": [
    "y_pred = model.predict(X_test)\n",
    "accuracy = accuracy_score(y_test, y_pred.argmax(axis=1))\n",
    "print(\"Classifier Accuracy:\", accuracy)"
   ]
  },
  {
   "cell_type": "markdown",
   "metadata": {},
   "source": [
    "##### Model 7"
   ]
  },
  {
   "cell_type": "code",
   "execution_count": 331,
   "metadata": {},
   "outputs": [
    {
     "name": "stdout",
     "output_type": "stream",
     "text": [
      "Epoch 1/10\n"
     ]
    },
    {
     "name": "stderr",
     "output_type": "stream",
     "text": [
      "/opt/anaconda3/lib/python3.12/site-packages/keras/src/layers/core/embedding.py:90: UserWarning: Argument `input_length` is deprecated. Just remove it.\n",
      "  warnings.warn(\n"
     ]
    },
    {
     "name": "stdout",
     "output_type": "stream",
     "text": [
      "\u001b[1m237/237\u001b[0m \u001b[32m━━━━━━━━━━━━━━━━━━━━\u001b[0m\u001b[37m\u001b[0m \u001b[1m84s\u001b[0m 353ms/step - accuracy: 0.2489 - loss: 5.4028 - val_accuracy: 0.2720 - val_loss: 2.1158\n",
      "Epoch 2/10\n",
      "\u001b[1m237/237\u001b[0m \u001b[32m━━━━━━━━━━━━━━━━━━━━\u001b[0m\u001b[37m\u001b[0m \u001b[1m84s\u001b[0m 354ms/step - accuracy: 0.2812 - loss: 2.0996 - val_accuracy: 0.2720 - val_loss: 2.1120\n",
      "Epoch 3/10\n",
      "\u001b[1m237/237\u001b[0m \u001b[32m━━━━━━━━━━━━━━━━━━━━\u001b[0m\u001b[37m\u001b[0m \u001b[1m83s\u001b[0m 350ms/step - accuracy: 0.2762 - loss: 2.1052 - val_accuracy: 0.2720 - val_loss: 2.1084\n",
      "Epoch 4/10\n",
      "\u001b[1m237/237\u001b[0m \u001b[32m━━━━━━━━━━━━━━━━━━━━\u001b[0m\u001b[37m\u001b[0m \u001b[1m89s\u001b[0m 374ms/step - accuracy: 0.2805 - loss: 2.0982 - val_accuracy: 0.2720 - val_loss: 2.1030\n",
      "Epoch 5/10\n",
      "\u001b[1m237/237\u001b[0m \u001b[32m━━━━━━━━━━━━━━━━━━━━\u001b[0m\u001b[37m\u001b[0m \u001b[1m87s\u001b[0m 368ms/step - accuracy: 0.2838 - loss: 2.0932 - val_accuracy: 0.2720 - val_loss: 2.1052\n",
      "Epoch 6/10\n",
      "\u001b[1m237/237\u001b[0m \u001b[32m━━━━━━━━━━━━━━━━━━━━\u001b[0m\u001b[37m\u001b[0m \u001b[1m87s\u001b[0m 368ms/step - accuracy: 0.2779 - loss: 2.0970 - val_accuracy: 0.2720 - val_loss: 2.1021\n",
      "Epoch 7/10\n",
      "\u001b[1m237/237\u001b[0m \u001b[32m━━━━━━━━━━━━━━━━━━━━\u001b[0m\u001b[37m\u001b[0m \u001b[1m83s\u001b[0m 352ms/step - accuracy: 0.2848 - loss: 2.0938 - val_accuracy: 0.2720 - val_loss: 2.1029\n",
      "Epoch 8/10\n",
      "\u001b[1m237/237\u001b[0m \u001b[32m━━━━━━━━━━━━━━━━━━━━\u001b[0m\u001b[37m\u001b[0m \u001b[1m84s\u001b[0m 354ms/step - accuracy: 0.2824 - loss: 2.0923 - val_accuracy: 0.2720 - val_loss: 2.1075\n",
      "Epoch 9/10\n",
      "\u001b[1m237/237\u001b[0m \u001b[32m━━━━━━━━━━━━━━━━━━━━\u001b[0m\u001b[37m\u001b[0m \u001b[1m85s\u001b[0m 358ms/step - accuracy: 0.2799 - loss: 2.0929 - val_accuracy: 0.2720 - val_loss: 2.1033\n",
      "Epoch 10/10\n",
      "\u001b[1m237/237\u001b[0m \u001b[32m━━━━━━━━━━━━━━━━━━━━\u001b[0m\u001b[37m\u001b[0m \u001b[1m87s\u001b[0m 367ms/step - accuracy: 0.2847 - loss: 2.0899 - val_accuracy: 0.2720 - val_loss: 2.1069\n",
      "Elapsed time: 14.22 minutes\n",
      "Results:\n",
      "\u001b[1m296/296\u001b[0m \u001b[32m━━━━━━━━━━━━━━━━━━━━\u001b[0m\u001b[37m\u001b[0m \u001b[1m9s\u001b[0m 30ms/step - accuracy: 0.2776 - loss: 2.0998\n",
      "Validation Loss: 2.1057\n",
      "Validation Accuracy: 0.2752\n"
     ]
    }
   ],
   "source": [
    "## Build the Simple RNN model with 10 epochs\n",
    "\n",
    "vocab_size = len(tokenizer.word_index) + 1 # Size of vocabulary\n",
    "embedding_dim = 50 # Dimension of word embeddings\n",
    "max_length = X_train.shape[1] # Maximum length of input sequences\n",
    "\n",
    "model = keras.Sequential([\n",
    "    layers.Embedding(vocab_size, embedding_dim, input_length = max_length),\n",
    "    layers.SimpleRNN(100),\n",
    "    layers.Dense(vocab_size, activation = 'softmax')\n",
    "])\n",
    "\n",
    "model.compile(loss = 'sparse_categorical_crossentropy', optimizer = 'adam', metrics = ['accuracy'])\n",
    "\n",
    "start_time = time.time()\n",
    "history = model.fit(X_train,\n",
    "                    y_train,\n",
    "                    epochs = 10,\n",
    "                    validation_split = 0.2,\n",
    "                    batch_size = 128\n",
    "                    )\n",
    "end_time = time.time()\n",
    "elapsed_time_minutes = (end_time - start_time) / 60\n",
    "print(f\"Elapsed time: {elapsed_time_minutes:.2f} minutes\")\n",
    "\n",
    "print(\"Results:\")\n",
    "loss, accuracy = model.evaluate(X_test, y_test)\n",
    "print(f\"Validation Loss: {loss:.4f}\")\n",
    "print(f\"Validation Accuracy: {accuracy:.4f}\")"
   ]
  },
  {
   "cell_type": "code",
   "execution_count": 332,
   "metadata": {},
   "outputs": [
    {
     "data": {
      "text/html": [
       "<pre style=\"white-space:pre;overflow-x:auto;line-height:normal;font-family:Menlo,'DejaVu Sans Mono',consolas,'Courier New',monospace\"><span style=\"font-weight: bold\">Model: \"sequential_20\"</span>\n",
       "</pre>\n"
      ],
      "text/plain": [
       "\u001b[1mModel: \"sequential_20\"\u001b[0m\n"
      ]
     },
     "metadata": {},
     "output_type": "display_data"
    },
    {
     "data": {
      "text/html": [
       "<pre style=\"white-space:pre;overflow-x:auto;line-height:normal;font-family:Menlo,'DejaVu Sans Mono',consolas,'Courier New',monospace\">┏━━━━━━━━━━━━━━━━━━━━━━━━━━━━━━━━━┳━━━━━━━━━━━━━━━━━━━━━━━━┳━━━━━━━━━━━━━━━┓\n",
       "┃<span style=\"font-weight: bold\"> Layer (type)                    </span>┃<span style=\"font-weight: bold\"> Output Shape           </span>┃<span style=\"font-weight: bold\">       Param # </span>┃\n",
       "┡━━━━━━━━━━━━━━━━━━━━━━━━━━━━━━━━━╇━━━━━━━━━━━━━━━━━━━━━━━━╇━━━━━━━━━━━━━━━┩\n",
       "│ embedding_20 (<span style=\"color: #0087ff; text-decoration-color: #0087ff\">Embedding</span>)        │ (<span style=\"color: #00d7ff; text-decoration-color: #00d7ff\">None</span>, <span style=\"color: #00af00; text-decoration-color: #00af00\">1147</span>, <span style=\"color: #00af00; text-decoration-color: #00af00\">50</span>)       │     <span style=\"color: #00af00; text-decoration-color: #00af00\">4,337,950</span> │\n",
       "├─────────────────────────────────┼────────────────────────┼───────────────┤\n",
       "│ simple_rnn_17 (<span style=\"color: #0087ff; text-decoration-color: #0087ff\">SimpleRNN</span>)       │ (<span style=\"color: #00d7ff; text-decoration-color: #00d7ff\">None</span>, <span style=\"color: #00af00; text-decoration-color: #00af00\">100</span>)            │        <span style=\"color: #00af00; text-decoration-color: #00af00\">15,100</span> │\n",
       "├─────────────────────────────────┼────────────────────────┼───────────────┤\n",
       "│ dense_20 (<span style=\"color: #0087ff; text-decoration-color: #0087ff\">Dense</span>)                │ (<span style=\"color: #00d7ff; text-decoration-color: #00d7ff\">None</span>, <span style=\"color: #00af00; text-decoration-color: #00af00\">86759</span>)          │     <span style=\"color: #00af00; text-decoration-color: #00af00\">8,762,659</span> │\n",
       "└─────────────────────────────────┴────────────────────────┴───────────────┘\n",
       "</pre>\n"
      ],
      "text/plain": [
       "┏━━━━━━━━━━━━━━━━━━━━━━━━━━━━━━━━━┳━━━━━━━━━━━━━━━━━━━━━━━━┳━━━━━━━━━━━━━━━┓\n",
       "┃\u001b[1m \u001b[0m\u001b[1mLayer (type)                   \u001b[0m\u001b[1m \u001b[0m┃\u001b[1m \u001b[0m\u001b[1mOutput Shape          \u001b[0m\u001b[1m \u001b[0m┃\u001b[1m \u001b[0m\u001b[1m      Param #\u001b[0m\u001b[1m \u001b[0m┃\n",
       "┡━━━━━━━━━━━━━━━━━━━━━━━━━━━━━━━━━╇━━━━━━━━━━━━━━━━━━━━━━━━╇━━━━━━━━━━━━━━━┩\n",
       "│ embedding_20 (\u001b[38;5;33mEmbedding\u001b[0m)        │ (\u001b[38;5;45mNone\u001b[0m, \u001b[38;5;34m1147\u001b[0m, \u001b[38;5;34m50\u001b[0m)       │     \u001b[38;5;34m4,337,950\u001b[0m │\n",
       "├─────────────────────────────────┼────────────────────────┼───────────────┤\n",
       "│ simple_rnn_17 (\u001b[38;5;33mSimpleRNN\u001b[0m)       │ (\u001b[38;5;45mNone\u001b[0m, \u001b[38;5;34m100\u001b[0m)            │        \u001b[38;5;34m15,100\u001b[0m │\n",
       "├─────────────────────────────────┼────────────────────────┼───────────────┤\n",
       "│ dense_20 (\u001b[38;5;33mDense\u001b[0m)                │ (\u001b[38;5;45mNone\u001b[0m, \u001b[38;5;34m86759\u001b[0m)          │     \u001b[38;5;34m8,762,659\u001b[0m │\n",
       "└─────────────────────────────────┴────────────────────────┴───────────────┘\n"
      ]
     },
     "metadata": {},
     "output_type": "display_data"
    },
    {
     "data": {
      "text/html": [
       "<pre style=\"white-space:pre;overflow-x:auto;line-height:normal;font-family:Menlo,'DejaVu Sans Mono',consolas,'Courier New',monospace\"><span style=\"font-weight: bold\"> Total params: </span><span style=\"color: #00af00; text-decoration-color: #00af00\">39,347,129</span> (150.10 MB)\n",
       "</pre>\n"
      ],
      "text/plain": [
       "\u001b[1m Total params: \u001b[0m\u001b[38;5;34m39,347,129\u001b[0m (150.10 MB)\n"
      ]
     },
     "metadata": {},
     "output_type": "display_data"
    },
    {
     "data": {
      "text/html": [
       "<pre style=\"white-space:pre;overflow-x:auto;line-height:normal;font-family:Menlo,'DejaVu Sans Mono',consolas,'Courier New',monospace\"><span style=\"font-weight: bold\"> Trainable params: </span><span style=\"color: #00af00; text-decoration-color: #00af00\">13,115,709</span> (50.03 MB)\n",
       "</pre>\n"
      ],
      "text/plain": [
       "\u001b[1m Trainable params: \u001b[0m\u001b[38;5;34m13,115,709\u001b[0m (50.03 MB)\n"
      ]
     },
     "metadata": {},
     "output_type": "display_data"
    },
    {
     "data": {
      "text/html": [
       "<pre style=\"white-space:pre;overflow-x:auto;line-height:normal;font-family:Menlo,'DejaVu Sans Mono',consolas,'Courier New',monospace\"><span style=\"font-weight: bold\"> Non-trainable params: </span><span style=\"color: #00af00; text-decoration-color: #00af00\">0</span> (0.00 B)\n",
       "</pre>\n"
      ],
      "text/plain": [
       "\u001b[1m Non-trainable params: \u001b[0m\u001b[38;5;34m0\u001b[0m (0.00 B)\n"
      ]
     },
     "metadata": {},
     "output_type": "display_data"
    },
    {
     "data": {
      "text/html": [
       "<pre style=\"white-space:pre;overflow-x:auto;line-height:normal;font-family:Menlo,'DejaVu Sans Mono',consolas,'Courier New',monospace\"><span style=\"font-weight: bold\"> Optimizer params: </span><span style=\"color: #00af00; text-decoration-color: #00af00\">26,231,420</span> (100.06 MB)\n",
       "</pre>\n"
      ],
      "text/plain": [
       "\u001b[1m Optimizer params: \u001b[0m\u001b[38;5;34m26,231,420\u001b[0m (100.06 MB)\n"
      ]
     },
     "metadata": {},
     "output_type": "display_data"
    }
   ],
   "source": [
    "model.summary()"
   ]
  },
  {
   "cell_type": "code",
   "execution_count": 333,
   "metadata": {},
   "outputs": [
    {
     "data": {
      "text/plain": [
       "<matplotlib.legend.Legend at 0x2d5b71670>"
      ]
     },
     "execution_count": 333,
     "metadata": {},
     "output_type": "execute_result"
    },
    {
     "data": {
      "image/png": "[encoded data removed]",
      "text/plain": [
       "<Figure size 1000x500 with 2 Axes>"
      ]
     },
     "metadata": {},
     "output_type": "display_data"
    }
   ],
   "source": [
    "## Visualize the model performance over the epochs and generate results on the test data.\n",
    "\n",
    "plt.figure(figsize=(10, 5))\n",
    "\n",
    "# Plot training & validation accuracy values\n",
    "plt.subplot(1, 2, 1)\n",
    "plt.plot(history.history['accuracy'])\n",
    "plt.plot(history.history['val_accuracy'])\n",
    "plt.title('Model Accuracy')\n",
    "plt.ylabel('Accuracy')\n",
    "plt.xlabel('Epoch')\n",
    "plt.legend(['Train', 'Validation'], loc='upper left')\n",
    "\n",
    "# Plot training & validation loss values\n",
    "plt.subplot(1, 2, 2)\n",
    "plt.plot(history.history['loss'])\n",
    "plt.plot(history.history['val_loss'])\n",
    "plt.title('Model Loss')\n",
    "plt.ylabel('Loss')\n",
    "plt.xlabel('Epoch')\n",
    "plt.legend(['Train', 'Validation'], loc='upper left')"
   ]
  },
  {
   "cell_type": "code",
   "execution_count": 334,
   "metadata": {},
   "outputs": [
    {
     "name": "stdout",
     "output_type": "stream",
     "text": [
      "\u001b[1m296/296\u001b[0m \u001b[32m━━━━━━━━━━━━━━━━━━━━\u001b[0m\u001b[37m\u001b[0m \u001b[1m9s\u001b[0m 29ms/step\n",
      "Classifier Accuracy: 0.27517700517806193\n"
     ]
    }
   ],
   "source": [
    "y_pred = model.predict(X_test)\n",
    "accuracy = accuracy_score(y_test, y_pred.argmax(axis=1))\n",
    "print(\"Classifier Accuracy:\", accuracy)"
   ]
  },
  {
   "cell_type": "markdown",
   "metadata": {
    "id": "tqEElBEAuqiO"
   },
   "source": [
    "## Conclusion and Future Work\n",
    "In terms of Conclusions:\n",
    "\n",
    "Based on the results, the models compared similarily with an approximate score of 0.275 (27.5%) accuracy. This is approximately twice the performance of the baseline model.\n",
    "\n",
    "Some observations of interest include the fact that each models accuracy maintained at just 1 epoch of training, indicating more epochs are not required for the models. This is the same case for the model loss based on the visualizations displayed, with the exception of the classifier with adagrad optimization that continued to decrease in both train and validation loss.\n",
    "\n",
    "Considering the performances were similar across classifiers, the best model would be the Simple RNN at 5 epochs using adam optimizer and sgd loss. This is due to the fact that is trained the fastest at < 7 minutes total training time.\n",
    "\n",
    "For Future Work:\n",
    "\n",
    "There are a variety of methods that can be considered for experimentation in this project. Standardizing the the class proportion by downsampling classes to the smallest class could be attempted. While more epochs do not appear to increase model performance, the use of more data could add context for words. Essentially, increase the number of input sentences for each target class.\n",
    "\n",
    "More types of feature engineering such as keep the entire article or paragraph as the input, masking only 1 word in the whole article. Paired with more data, this would provide a substantial amount of input data, increasing train times, but potentially increasing model performance. The use of more layers, neuron counts, and tweaking other aspects of the model hyparameters can also be attempted.\n",
    "\n",
    "Proper language models would also include more target variables, or attempt to link an entire vocabularly rather than just the 10 targets attempted here, so adding more targets could make for a more general effective model."
   ]
  },
  {
   "cell_type": "code",
   "execution_count": null,
   "metadata": {
    "id": "Hm0Kh3_2uqxN"
   },
   "outputs": [],
   "source": []
  }
 ],
 "metadata": {
  "colab": {
   "provenance": []
  },
  "kernelspec": {
   "display_name": "Python 3 (ipykernel)",
   "language": "python",
   "name": "python3"
  },
  "language_info": {
   "codemirror_mode": {
    "name": "ipython",
    "version": 3
   },
   "file_extension": ".py",
   "mimetype": "text/x-python",
   "name": "python",
   "nbconvert_exporter": "python",
   "pygments_lexer": "ipython3",
   "version": "3.12.7"
  }
 },
 "nbformat": 4,
 "nbformat_minor": 4
}
